{
 "cells": [
  {
   "cell_type": "code",
   "execution_count": 1,
   "id": "2137e90a",
   "metadata": {},
   "outputs": [],
   "source": [
    "# DEPENDENCIES\n",
    "import pandas as pd\n",
    "import numpy as np\n",
    "import glob\n",
    "\n",
    "from sklearn.model_selection import train_test_split\n",
    "from sklearn.preprocessing import StandardScaler, MinMaxScaler, LabelEncoder\n",
    "# from os import walk"
   ]
  },
  {
   "cell_type": "code",
   "execution_count": 2,
   "id": "4c1a8b78",
   "metadata": {},
   "outputs": [
    {
     "data": {
      "text/plain": [
       "Index(['key_id', 'tournament_id', 'tournament_name', 'match_id', 'match_name',\n",
       "       'match_date', 'stage_name', 'group_name', 'team_id', 'team_name',\n",
       "       'team_code', 'home_team', 'away_team', 'player_id', 'family_name',\n",
       "       'given_name', 'shirt_number', 'position_name', 'position_code',\n",
       "       'starter', 'substitute', 'captain', 'Name', 'match_year'],\n",
       "      dtype='object')"
      ]
     },
     "execution_count": 2,
     "metadata": {},
     "output_type": "execute_result"
    }
   ],
   "source": [
    "# NOTE: FIFA TYPICALLY RELEASES RATINGS IN SEPTEMBER OF EACH YEAR. \n",
    "        # WITH 2022 BEING A NOTABLE EXCEPTION, THE WORLD CUP IS HELD IN JUNE EVERY FOUR YEARS\n",
    "\n",
    "# CSV FILES FOR FIFA PLAYERS IN THE LAST DECADE\n",
    "# Before the 2020 World Cup\n",
    "players_2021 = \"Data/Players_EAFIFA/2021.csv\"\n",
    "players_2020 = \"Data/Players_EAFIFA/2020.csv\"\n",
    "players_2019 = \"Data/Players_EAFIFA/2019.csv\"\n",
    "players_2018 = \"Data/Players_EAFIFA/2018.csv\"\n",
    "# Before the 2018 World Cup\n",
    "players_2017 = \"Data/Players_EAFIFA/2017.csv\"\n",
    "players_2016 = \"Data/Players_EAFIFA/2016.csv\"\n",
    "players_2015 = \"Data/Players_EAFIFA/2015.csv\"\n",
    "players_2014 = \"Data/Players_EAFIFA/2014.csv\"\n",
    "# Before the 2014 World Cup\n",
    "players_2013 = \"Data/Players_EAFIFA/2013.csv\"\n",
    "players_2012 = \"Data/Players_EAFIFA/2012.csv\"\n",
    "\n",
    "# PLAYER CSV FILES AS LIST (FOR LOOPS LATER IF NEEDED)\n",
    "player_csvs = [players_2021,players_2020, players_2019,players_2018, players_2017, players_2016, players_2015, players_2014, players_2013, players_2012]\n",
    "\n",
    "# HISOTRIC PLAYER APPEARANCES CSV FILE\n",
    "file1_18624records = \"Data/player_appearances.csv\"\n",
    "playerApps_df = pd.read_csv(file1_18624records)\n",
    "playerApps_df[\"Name\"] = playerApps_df[\"given_name\"] + \" \" + playerApps_df[\"family_name\"]\n",
    "\n",
    "# PLAYER DATA CSV FILE\n",
    "# file2_7908records = \"Data/players.csv\"\n",
    "# playerData_df = pd.read_csv(file2_7908records)\n",
    "\n",
    "\n",
    "# CHANGING MATCH_DATE TO DATETIME IN ORDER TO EXTRACT THE MATCH YEAR\n",
    "playerApps_df[\"match_date\"] = pd.to_datetime(playerApps_df[\"match_date\"])\n",
    "playerApps_df[\"match_year\"] = playerApps_df[\"match_date\"].dt.year\n",
    "\n",
    "\n",
    "players_2021_df = pd.read_csv(players_2021)\n",
    "\n",
    "players_2021_df.columns\n",
    "playerApps_df.columns"
   ]
  },
  {
   "cell_type": "code",
   "execution_count": 3,
   "id": "73001966",
   "metadata": {},
   "outputs": [
    {
     "data": {
      "text/html": [
       "<div>\n",
       "<style scoped>\n",
       "    .dataframe tbody tr th:only-of-type {\n",
       "        vertical-align: middle;\n",
       "    }\n",
       "\n",
       "    .dataframe tbody tr th {\n",
       "        vertical-align: top;\n",
       "    }\n",
       "\n",
       "    .dataframe thead th {\n",
       "        text-align: right;\n",
       "    }\n",
       "</style>\n",
       "<table border=\"1\" class=\"dataframe\">\n",
       "  <thead>\n",
       "    <tr style=\"text-align: right;\">\n",
       "      <th></th>\n",
       "      <th></th>\n",
       "      <th>match_id</th>\n",
       "    </tr>\n",
       "    <tr>\n",
       "      <th>player_id</th>\n",
       "      <th>Name</th>\n",
       "      <th></th>\n",
       "    </tr>\n",
       "  </thead>\n",
       "  <tbody>\n",
       "    <tr>\n",
       "      <th>P-00002</th>\n",
       "      <th>Javad Zarincheh</th>\n",
       "      <td>3</td>\n",
       "    </tr>\n",
       "    <tr>\n",
       "      <th>P-00004</th>\n",
       "      <th>Krasimir Balakov</th>\n",
       "      <td>10</td>\n",
       "    </tr>\n",
       "    <tr>\n",
       "      <th>P-00007</th>\n",
       "      <th>Stephen Malcolm</th>\n",
       "      <td>2</td>\n",
       "    </tr>\n",
       "    <tr>\n",
       "      <th>P-00008</th>\n",
       "      <th>not applicable Rivaldo</th>\n",
       "      <td>14</td>\n",
       "    </tr>\n",
       "    <tr>\n",
       "      <th>P-00015</th>\n",
       "      <th>Vladimir Soria</th>\n",
       "      <td>3</td>\n",
       "    </tr>\n",
       "    <tr>\n",
       "      <th>...</th>\n",
       "      <th>...</th>\n",
       "      <td>...</td>\n",
       "    </tr>\n",
       "    <tr>\n",
       "      <th>P-09989</th>\n",
       "      <th>Ziad Jaziri</th>\n",
       "      <td>6</td>\n",
       "    </tr>\n",
       "    <tr>\n",
       "      <th>P-09990</th>\n",
       "      <th>Bernardo Redín</th>\n",
       "      <td>3</td>\n",
       "    </tr>\n",
       "    <tr>\n",
       "      <th>P-09993</th>\n",
       "      <th>Francisco Silva</th>\n",
       "      <td>3</td>\n",
       "    </tr>\n",
       "    <tr>\n",
       "      <th>P-09994</th>\n",
       "      <th>Maciej Rybus</th>\n",
       "      <td>2</td>\n",
       "    </tr>\n",
       "    <tr>\n",
       "      <th>P-09998</th>\n",
       "      <th>Sergio Goycochea</th>\n",
       "      <td>6</td>\n",
       "    </tr>\n",
       "  </tbody>\n",
       "</table>\n",
       "<p>4627 rows × 1 columns</p>\n",
       "</div>"
      ],
      "text/plain": [
       "                                  match_id\n",
       "player_id Name                            \n",
       "P-00002   Javad Zarincheh                3\n",
       "P-00004   Krasimir Balakov              10\n",
       "P-00007   Stephen Malcolm                2\n",
       "P-00008   not applicable Rivaldo        14\n",
       "P-00015   Vladimir Soria                 3\n",
       "...                                    ...\n",
       "P-09989   Ziad Jaziri                    6\n",
       "P-09990   Bernardo Redín                 3\n",
       "P-09993   Francisco Silva                3\n",
       "P-09994   Maciej Rybus                   2\n",
       "P-09998   Sergio Goycochea               6\n",
       "\n",
       "[4627 rows x 1 columns]"
      ]
     },
     "execution_count": 3,
     "metadata": {},
     "output_type": "execute_result"
    }
   ],
   "source": [
    "playerApps_df_grp = playerApps_df[[\"match_id\", \"player_id\", \"Name\"]].groupby([\"player_id\", \"Name\"]).nunique(\"match_id\")\n",
    "playerApps_df_grp \n",
    "\n",
    "# df_wcPlayers.groupby([\"Nationality\", \"Any_WC_Apperance\"]).nunique(\"ID\").head(40)"
   ]
  },
  {
   "cell_type": "code",
   "execution_count": 4,
   "id": "01cc0e5d",
   "metadata": {},
   "outputs": [],
   "source": [
    "# TEAMS THAT QUALIFIED FOR THE 2022 WORLD CUP\n",
    "teams_2022 = ['Qatar', 'Netherlands', 'Senegal', 'Ecuador', \n",
    "            'England', 'United States', 'Wales', 'Iran', \n",
    "            'Argentina', 'Poland', 'Mexico', 'Saudi Arabia', \n",
    "            'France', 'Denmark', 'Tunisia', 'Australia', \n",
    "            'Germany', 'Spain', 'Japan', 'Costa Rica', \n",
    "            'Belgium', 'Croatia', 'Canada', 'Morocco', \n",
    "            'Brazil', 'Switzerland', 'Serbia', 'Cameroon', \n",
    "            'Portugal', 'Uruguay', 'Ghana', 'Korea Republic']"
   ]
  },
  {
   "cell_type": "code",
   "execution_count": 5,
   "id": "fb6a20d8",
   "metadata": {},
   "outputs": [
    {
     "data": {
      "text/plain": [
       "19067           Matteo Politano\n",
       "19068                 Cucurella\n",
       "19069                  Angeliño\n",
       "19070            James Maddison\n",
       "19071          Davinson Sánchez\n",
       "19072            Manuel Lazzari\n",
       "19073              Tomáš Souček\n",
       "19074         Dominik Livaković\n",
       "19075                Rúben Dias\n",
       "19076              Moussa Diaby\n",
       "19077                Renan Lodi\n",
       "19078           Steven Berghuis\n",
       "19079          Gianluigi Buffon\n",
       "19080            Danilo Pereira\n",
       "19081               Lucas Moura\n",
       "19082         Agustín Marchesín\n",
       "19083          Gabriel Paulista\n",
       "19084              Tomáš Vaclík\n",
       "19085                 Nick Pope\n",
       "19086              Diego Carlos\n",
       "19087           Martin Dúbravka\n",
       "19088           Lucas Hernández\n",
       "19089         Donny van de Beek\n",
       "19090           Martin Ødegaard\n",
       "19091              Marcos Acuña\n",
       "19092       Georginio Wijnaldum\n",
       "19093           Alejandro Gómez\n",
       "19094          Leonardo Bonucci\n",
       "19095             Péter Gulácsi\n",
       "19096               Kai Havertz\n",
       "19097            Erling Haaland\n",
       "19098         Toby Alderweireld\n",
       "19099                   Fabinho\n",
       "19100           Bruno Fernandes\n",
       "19101           Aymeric Laporte\n",
       "19102          Andrew Robertson\n",
       "19103     Marc-André ter Stegen\n",
       "19104    Trent Alexander-Arnold\n",
       "19105           Virgil van Dijk\n",
       "19106             Kylian Mbappé\n",
       "19107                Sadio Mané\n",
       "19108             Mohamed Salah\n",
       "19109                   Alisson\n",
       "19110        Robert Lewandowski\n",
       "19111                 Neymar Jr\n",
       "19112           Kevin De Bruyne\n",
       "19113                 Jan Oblak\n",
       "19114         Cristiano Ronaldo\n",
       "19115              Robson Denho\n",
       "19116           Eltildo Correia\n",
       "Name: Name, dtype: object"
      ]
     },
     "execution_count": 5,
     "metadata": {},
     "output_type": "execute_result"
    }
   ],
   "source": [
    "# CREATING DATAFRAME OF ALL PLAYER CSV FILES\n",
    "\n",
    "df_list = []\n",
    "for file in glob.glob(\"Data/Players_EAFIFA/*.csv\"):\n",
    "    year = file.split(\".\")[0]\n",
    "    df = pd.read_csv(file).assign(year = year)\n",
    "    df_list.append(df)\n",
    "\n",
    "df = pd.concat(df_list)\n",
    "\n",
    "df[\"year2\"] = [x.strip()[-4:] for x in df[\"year\"]]\n",
    "df.drop(columns=[\"year\"])\n",
    "\n",
    "df = df.rename(columns={\"Natinality\":\"Nationality\",\"Overal\":\"Overall\", \"year\":\"file_source\", \"year2\":\"data_year\"})\n",
    "\n",
    "# df.info()\n",
    "# df[\"Nation_KitNumber\"].unique()\n",
    "df[\"Name\"].tail(50)"
   ]
  },
  {
   "cell_type": "code",
   "execution_count": 6,
   "id": "9ade62f6",
   "metadata": {},
   "outputs": [],
   "source": [
    "# playerApps_df[\"Name\"]\n",
    "# playerApps_df.info()"
   ]
  },
  {
   "cell_type": "markdown",
   "id": "385da36c",
   "metadata": {},
   "source": [
    "The raw dataset for 2012-2022 reveals 50,234 unique players from 188 countries who played for 1,366 different clubs during the period. In total, there were 172,125 records in the raw dataset. "
   ]
  },
  {
   "cell_type": "code",
   "execution_count": 7,
   "id": "1d2dde95",
   "metadata": {
    "scrolled": true
   },
   "outputs": [
    {
     "name": "stdout",
     "output_type": "stream",
     "text": [
      "<class 'pandas.core.frame.DataFrame'>\n",
      "Int64Index: 172125 entries, 0 to 19116\n",
      "Data columns (total 50 columns):\n",
      " #   Column              Non-Null Count   Dtype  \n",
      "---  ------              --------------   -----  \n",
      " 0   ID                  172125 non-null  int64  \n",
      " 1   Name                172125 non-null  object \n",
      " 2   Nationality         172125 non-null  object \n",
      " 3   Overall             172125 non-null  int64  \n",
      " 4   Potential           172125 non-null  int64  \n",
      " 5   Height              172125 non-null  int64  \n",
      " 6   Weight              172125 non-null  int64  \n",
      " 7   Age                 172125 non-null  int64  \n",
      " 8   PreferredPositions  172125 non-null  object \n",
      " 9   PlayerWorkRate      172125 non-null  object \n",
      " 10  WeakFoot            172125 non-null  int64  \n",
      " 11  SkillMoves          172125 non-null  int64  \n",
      " 12  Value               169528 non-null  float64\n",
      " 13  Wage                169528 non-null  float64\n",
      " 14  BallControl         172125 non-null  int64  \n",
      " 15  Dribbling           172125 non-null  int64  \n",
      " 16  Marking             172125 non-null  int64  \n",
      " 17  SlideTackle         172125 non-null  int64  \n",
      " 18  StandTackle         172125 non-null  int64  \n",
      " 19  Aggression          172125 non-null  int64  \n",
      " 20  Reactions           172125 non-null  int64  \n",
      " 21  AttPosition         172125 non-null  int64  \n",
      " 22  Interceptions       172125 non-null  int64  \n",
      " 23  Vision              172125 non-null  int64  \n",
      " 24  Composure           92345 non-null   float64\n",
      " 25  Crossing            172125 non-null  int64  \n",
      " 26  ShortPass           172125 non-null  int64  \n",
      " 27  LongPass            172125 non-null  int64  \n",
      " 28  Acceleration        172125 non-null  int64  \n",
      " 29  Stamina             172125 non-null  int64  \n",
      " 30  Strength            172125 non-null  int64  \n",
      " 31  Balance             172125 non-null  int64  \n",
      " 32  SprintSpeed         172125 non-null  int64  \n",
      " 33  Agility             172125 non-null  int64  \n",
      " 34  Jumping             172125 non-null  int64  \n",
      " 35  Heading             172125 non-null  int64  \n",
      " 36  ShotPower           172125 non-null  int64  \n",
      " 37  Finishing           172125 non-null  int64  \n",
      " 38  LongShots           172125 non-null  int64  \n",
      " 39  Curve               172125 non-null  int64  \n",
      " 40  FKAcc               172125 non-null  int64  \n",
      " 41  Penalties           172125 non-null  int64  \n",
      " 42  Volleys             172125 non-null  int64  \n",
      " 43  GKPositioning       172125 non-null  int64  \n",
      " 44  GKDiving            172125 non-null  int64  \n",
      " 45  GKHandling          172125 non-null  int64  \n",
      " 46  GKKicking           172125 non-null  int64  \n",
      " 47  GKReflexes          172125 non-null  int64  \n",
      " 48  data_year           172125 non-null  object \n",
      " 49  PreferredFootNum    172125 non-null  float64\n",
      "dtypes: float64(4), int64(41), object(5)\n",
      "memory usage: 67.0+ MB\n"
     ]
    }
   ],
   "source": [
    "# MODIFICATIONS FOR MACHINE LEARNING\n",
    "\n",
    "# adding a binary column indicating the preferred foot\n",
    "df[\"PreferredFoot\"].unique()\n",
    "df.loc[df[\"PreferredFoot\"] == \"L\", \"PreferredFootNum\"]=1\n",
    "df.loc[df[\"PreferredFoot\"] == \"R\", \"PreferredFootNum\"]=0\n",
    "\n",
    "# dropping columns\n",
    "df2 = df.drop(columns=[\"PreferredFoot\",\"BirthDate\", \"Nation\", \"Nation_Position\", \"Nation_KitNumber\", \n",
    "                       \"Club\",\"Club_Position\", \"Club_KitNumber\", \"Club_JoinedClub\", \"Club_ContractLength\",\n",
    "                       \"Traits\", \"Specialities\", \"file_source\"])\n",
    "df2.info()"
   ]
  },
  {
   "cell_type": "code",
   "execution_count": 8,
   "id": "57412312",
   "metadata": {},
   "outputs": [
    {
     "data": {
      "text/plain": [
       "1366"
      ]
     },
     "execution_count": 8,
     "metadata": {},
     "output_type": "execute_result"
    }
   ],
   "source": [
    "df[\"Club\"].nunique()"
   ]
  },
  {
   "cell_type": "code",
   "execution_count": 11,
   "id": "e46abfa3",
   "metadata": {},
   "outputs": [],
   "source": [
    "df_wc = pd.merge(df2,players_2021_df[\"Name\"], on=\"Name\", how=\"left\")"
   ]
  },
  {
   "cell_type": "code",
   "execution_count": 14,
   "id": "6923dd73",
   "metadata": {
    "scrolled": true
   },
   "outputs": [
    {
     "ename": "KeyError",
     "evalue": "'player_id'",
     "output_type": "error",
     "traceback": [
      "\u001b[1;31m---------------------------------------------------------------------------\u001b[0m",
      "\u001b[1;31mKeyError\u001b[0m                                  Traceback (most recent call last)",
      "\u001b[1;32mC:\\ProgramData\\Anaconda3\\lib\\site-packages\\pandas\\core\\indexes\\base.py\u001b[0m in \u001b[0;36mget_loc\u001b[1;34m(self, key, method, tolerance)\u001b[0m\n\u001b[0;32m   3360\u001b[0m             \u001b[1;32mtry\u001b[0m\u001b[1;33m:\u001b[0m\u001b[1;33m\u001b[0m\u001b[1;33m\u001b[0m\u001b[0m\n\u001b[1;32m-> 3361\u001b[1;33m                 \u001b[1;32mreturn\u001b[0m \u001b[0mself\u001b[0m\u001b[1;33m.\u001b[0m\u001b[0m_engine\u001b[0m\u001b[1;33m.\u001b[0m\u001b[0mget_loc\u001b[0m\u001b[1;33m(\u001b[0m\u001b[0mcasted_key\u001b[0m\u001b[1;33m)\u001b[0m\u001b[1;33m\u001b[0m\u001b[1;33m\u001b[0m\u001b[0m\n\u001b[0m\u001b[0;32m   3362\u001b[0m             \u001b[1;32mexcept\u001b[0m \u001b[0mKeyError\u001b[0m \u001b[1;32mas\u001b[0m \u001b[0merr\u001b[0m\u001b[1;33m:\u001b[0m\u001b[1;33m\u001b[0m\u001b[1;33m\u001b[0m\u001b[0m\n",
      "\u001b[1;32mC:\\ProgramData\\Anaconda3\\lib\\site-packages\\pandas\\_libs\\index.pyx\u001b[0m in \u001b[0;36mpandas._libs.index.IndexEngine.get_loc\u001b[1;34m()\u001b[0m\n",
      "\u001b[1;32mC:\\ProgramData\\Anaconda3\\lib\\site-packages\\pandas\\_libs\\index.pyx\u001b[0m in \u001b[0;36mpandas._libs.index.IndexEngine.get_loc\u001b[1;34m()\u001b[0m\n",
      "\u001b[1;32mpandas\\_libs\\hashtable_class_helper.pxi\u001b[0m in \u001b[0;36mpandas._libs.hashtable.PyObjectHashTable.get_item\u001b[1;34m()\u001b[0m\n",
      "\u001b[1;32mpandas\\_libs\\hashtable_class_helper.pxi\u001b[0m in \u001b[0;36mpandas._libs.hashtable.PyObjectHashTable.get_item\u001b[1;34m()\u001b[0m\n",
      "\u001b[1;31mKeyError\u001b[0m: 'player_id'",
      "\nThe above exception was the direct cause of the following exception:\n",
      "\u001b[1;31mKeyError\u001b[0m                                  Traceback (most recent call last)",
      "\u001b[1;32m~\\AppData\\Local\\Temp/ipykernel_28124/3825220940.py\u001b[0m in \u001b[0;36m<module>\u001b[1;34m\u001b[0m\n\u001b[0;32m     15\u001b[0m \u001b[0mdf_wcPlayers\u001b[0m \u001b[1;33m=\u001b[0m \u001b[0mdf_wc\u001b[0m\u001b[1;33m.\u001b[0m\u001b[0mdrop_duplicates\u001b[0m\u001b[1;33m(\u001b[0m\u001b[1;33m)\u001b[0m\u001b[1;33m\u001b[0m\u001b[1;33m\u001b[0m\u001b[0m\n\u001b[0;32m     16\u001b[0m \u001b[1;33m\u001b[0m\u001b[0m\n\u001b[1;32m---> 17\u001b[1;33m \u001b[0mdf_wcPlayers\u001b[0m\u001b[1;33m.\u001b[0m\u001b[0mloc\u001b[0m\u001b[1;33m[\u001b[0m\u001b[0mdf_wcPlayers\u001b[0m\u001b[1;33m[\u001b[0m\u001b[1;34m\"player_id\"\u001b[0m\u001b[1;33m]\u001b[0m\u001b[1;33m.\u001b[0m\u001b[0misnull\u001b[0m\u001b[1;33m(\u001b[0m\u001b[1;33m)\u001b[0m\u001b[1;33m,\u001b[0m \u001b[1;34m\"Any_WC_Apperance\"\u001b[0m\u001b[1;33m]\u001b[0m\u001b[1;33m=\u001b[0m \u001b[1;34m\"False\"\u001b[0m\u001b[1;33m\u001b[0m\u001b[1;33m\u001b[0m\u001b[0m\n\u001b[0m\u001b[0;32m     18\u001b[0m \u001b[0mdf_wcPlayers\u001b[0m\u001b[1;33m.\u001b[0m\u001b[0mloc\u001b[0m\u001b[1;33m[\u001b[0m\u001b[0mdf_wcPlayers\u001b[0m\u001b[1;33m[\u001b[0m\u001b[1;34m\"player_id\"\u001b[0m\u001b[1;33m]\u001b[0m\u001b[1;33m.\u001b[0m\u001b[0mnotnull\u001b[0m\u001b[1;33m(\u001b[0m\u001b[1;33m)\u001b[0m\u001b[1;33m,\u001b[0m \u001b[1;34m\"Any_WC_Apperance\"\u001b[0m\u001b[1;33m]\u001b[0m\u001b[1;33m=\u001b[0m \u001b[1;34m\"True\"\u001b[0m\u001b[1;33m\u001b[0m\u001b[1;33m\u001b[0m\u001b[0m\n\u001b[0;32m     19\u001b[0m \u001b[0mdf_wcPlayers\u001b[0m\u001b[1;33m.\u001b[0m\u001b[0mloc\u001b[0m\u001b[1;33m[\u001b[0m\u001b[0mdf_wcPlayers\u001b[0m\u001b[1;33m[\u001b[0m\u001b[1;34m\"Nationality\"\u001b[0m\u001b[1;33m]\u001b[0m\u001b[1;33m.\u001b[0m\u001b[0misin\u001b[0m\u001b[1;33m(\u001b[0m\u001b[0mteams_2022\u001b[0m\u001b[1;33m)\u001b[0m\u001b[1;33m,\u001b[0m \u001b[1;34m\"WC_2022_Country\"\u001b[0m\u001b[1;33m]\u001b[0m \u001b[1;33m=\u001b[0m \u001b[1;34m\"True\"\u001b[0m\u001b[1;33m\u001b[0m\u001b[1;33m\u001b[0m\u001b[0m\n",
      "\u001b[1;32mC:\\ProgramData\\Anaconda3\\lib\\site-packages\\pandas\\core\\frame.py\u001b[0m in \u001b[0;36m__getitem__\u001b[1;34m(self, key)\u001b[0m\n\u001b[0;32m   3456\u001b[0m             \u001b[1;32mif\u001b[0m \u001b[0mself\u001b[0m\u001b[1;33m.\u001b[0m\u001b[0mcolumns\u001b[0m\u001b[1;33m.\u001b[0m\u001b[0mnlevels\u001b[0m \u001b[1;33m>\u001b[0m \u001b[1;36m1\u001b[0m\u001b[1;33m:\u001b[0m\u001b[1;33m\u001b[0m\u001b[1;33m\u001b[0m\u001b[0m\n\u001b[0;32m   3457\u001b[0m                 \u001b[1;32mreturn\u001b[0m \u001b[0mself\u001b[0m\u001b[1;33m.\u001b[0m\u001b[0m_getitem_multilevel\u001b[0m\u001b[1;33m(\u001b[0m\u001b[0mkey\u001b[0m\u001b[1;33m)\u001b[0m\u001b[1;33m\u001b[0m\u001b[1;33m\u001b[0m\u001b[0m\n\u001b[1;32m-> 3458\u001b[1;33m             \u001b[0mindexer\u001b[0m \u001b[1;33m=\u001b[0m \u001b[0mself\u001b[0m\u001b[1;33m.\u001b[0m\u001b[0mcolumns\u001b[0m\u001b[1;33m.\u001b[0m\u001b[0mget_loc\u001b[0m\u001b[1;33m(\u001b[0m\u001b[0mkey\u001b[0m\u001b[1;33m)\u001b[0m\u001b[1;33m\u001b[0m\u001b[1;33m\u001b[0m\u001b[0m\n\u001b[0m\u001b[0;32m   3459\u001b[0m             \u001b[1;32mif\u001b[0m \u001b[0mis_integer\u001b[0m\u001b[1;33m(\u001b[0m\u001b[0mindexer\u001b[0m\u001b[1;33m)\u001b[0m\u001b[1;33m:\u001b[0m\u001b[1;33m\u001b[0m\u001b[1;33m\u001b[0m\u001b[0m\n\u001b[0;32m   3460\u001b[0m                 \u001b[0mindexer\u001b[0m \u001b[1;33m=\u001b[0m \u001b[1;33m[\u001b[0m\u001b[0mindexer\u001b[0m\u001b[1;33m]\u001b[0m\u001b[1;33m\u001b[0m\u001b[1;33m\u001b[0m\u001b[0m\n",
      "\u001b[1;32mC:\\ProgramData\\Anaconda3\\lib\\site-packages\\pandas\\core\\indexes\\base.py\u001b[0m in \u001b[0;36mget_loc\u001b[1;34m(self, key, method, tolerance)\u001b[0m\n\u001b[0;32m   3361\u001b[0m                 \u001b[1;32mreturn\u001b[0m \u001b[0mself\u001b[0m\u001b[1;33m.\u001b[0m\u001b[0m_engine\u001b[0m\u001b[1;33m.\u001b[0m\u001b[0mget_loc\u001b[0m\u001b[1;33m(\u001b[0m\u001b[0mcasted_key\u001b[0m\u001b[1;33m)\u001b[0m\u001b[1;33m\u001b[0m\u001b[1;33m\u001b[0m\u001b[0m\n\u001b[0;32m   3362\u001b[0m             \u001b[1;32mexcept\u001b[0m \u001b[0mKeyError\u001b[0m \u001b[1;32mas\u001b[0m \u001b[0merr\u001b[0m\u001b[1;33m:\u001b[0m\u001b[1;33m\u001b[0m\u001b[1;33m\u001b[0m\u001b[0m\n\u001b[1;32m-> 3363\u001b[1;33m                 \u001b[1;32mraise\u001b[0m \u001b[0mKeyError\u001b[0m\u001b[1;33m(\u001b[0m\u001b[0mkey\u001b[0m\u001b[1;33m)\u001b[0m \u001b[1;32mfrom\u001b[0m \u001b[0merr\u001b[0m\u001b[1;33m\u001b[0m\u001b[1;33m\u001b[0m\u001b[0m\n\u001b[0m\u001b[0;32m   3364\u001b[0m \u001b[1;33m\u001b[0m\u001b[0m\n\u001b[0;32m   3365\u001b[0m         \u001b[1;32mif\u001b[0m \u001b[0mis_scalar\u001b[0m\u001b[1;33m(\u001b[0m\u001b[0mkey\u001b[0m\u001b[1;33m)\u001b[0m \u001b[1;32mand\u001b[0m \u001b[0misna\u001b[0m\u001b[1;33m(\u001b[0m\u001b[0mkey\u001b[0m\u001b[1;33m)\u001b[0m \u001b[1;32mand\u001b[0m \u001b[1;32mnot\u001b[0m \u001b[0mself\u001b[0m\u001b[1;33m.\u001b[0m\u001b[0mhasnans\u001b[0m\u001b[1;33m:\u001b[0m\u001b[1;33m\u001b[0m\u001b[1;33m\u001b[0m\u001b[0m\n",
      "\u001b[1;31mKeyError\u001b[0m: 'player_id'"
     ]
    }
   ],
   "source": [
    "# merging on the name created an additioanl 29,172 records (+16.9%). \n",
    "# The player_id is not null for 38,066 records\n",
    "# df_wc = pd.merge(df2,playerApps_df[[\"player_id\",\"Name\"]], on=\"Name\", how=\"outer\")\n",
    "# WC_2022_Country = df_wc[\"Nationality\"].isin(teams_2022)\n",
    "# df_wc2[\"WC_2022_Country\"]=df_wc[WC_2022_Country]\n",
    "# df_wc2.info()\n",
    "\n",
    "\n",
    "\n",
    "\n",
    "\n",
    "\n",
    "# df_wc.drop_duplicates()\n",
    "\n",
    "df_wcPlayers = df_wc.drop_duplicates()\n",
    "\n",
    "df_wcPlayers.loc[df_wcPlayers[\"player_id\"].isnull(), \"Any_WC_Apperance\"]= \"False\"\n",
    "df_wcPlayers.loc[df_wcPlayers[\"player_id\"].notnull(), \"Any_WC_Apperance\"]= \"True\"\n",
    "df_wcPlayers.loc[df_wcPlayers[\"Nationality\"].isin(teams_2022), \"WC_2022_Country\"] = \"True\"\n",
    "\n",
    "# df_wcPlayers.groupby([\"Nationality\", \"Any_WC_Apperance\"]).nunique(\"ID\").head(40)\n",
    "\n",
    "# df_wcPlayers[\"Nationality\"].drop(\"Nationality\").isnull()\n",
    "# df_wcPlayers[df_wcPlayers.Nationality.notna()]\n",
    "df_wcPlayers\n",
    "\n",
    "# Nationality_notnull = df_wcPlayers[df_wcPlayers[\"Nationality\"].notnull()]\n",
    "# Nationality_notnull = df_wcPlayers[df_wcPlayers[\"WC_2022_Country\"].notnull()]\n",
    "\n",
    "# Nationality_notnull = Nationality_notnull.drop(columns = [\"Composure\", \"PreferredPositions\", \"PlayerWorkRate\", \"data_year\", \"Value\", \"Wage\"])\n",
    "# Nationality_notnull.info()\n"
   ]
  },
  {
   "cell_type": "code",
   "execution_count": null,
   "id": "2c83edcb",
   "metadata": {},
   "outputs": [],
   "source": [
    "# MODEL\n",
    "\n",
    "X = Nationality_notnull.drop(\"Any_WC_Apperance\", axis = 1)\n",
    "X_dummies = pd.get_dummies(X)\n",
    "X_dummies"
   ]
  },
  {
   "cell_type": "code",
   "execution_count": null,
   "id": "2502b7ce",
   "metadata": {},
   "outputs": [],
   "source": [
    "y_label = LabelEncoder().fit_transform(Nationality_notnull[\"Any_WC_Apperance\"])\n",
    "y_label"
   ]
  },
  {
   "cell_type": "code",
   "execution_count": null,
   "id": "e51bb0cc",
   "metadata": {},
   "outputs": [],
   "source": [
    "X_train, X_test, y_train, y_test = train_test_split(X_dummies, y_label, random_state=13)\n",
    "\n",
    "scaler = StandardScaler().fit(X_train)\n",
    "X_train_scaled = scaler.transform(X_train)\n",
    "X_train_scaled"
   ]
  },
  {
   "cell_type": "code",
   "execution_count": null,
   "id": "33455059",
   "metadata": {},
   "outputs": [],
   "source": [
    "df_wc[\"Prev_WC_Appearance\"] = np.where(df_wc[\"player_id\"].notnull(), \"True\", \"False\")\n",
    "\n",
    "df_wc.drop_duplicates(keep=False)\n",
    "df_wc[[\"Name\", \"Prev_WC_Appearance\", \"Wage\", \"data_year\"]].head(20)"
   ]
  },
  {
   "cell_type": "code",
   "execution_count": null,
   "id": "46c46c89",
   "metadata": {},
   "outputs": [],
   "source": [
    "df_wc2[[\"Prev_WC_Appearance\", \"Nationality\", \"ID\"]].groupby([\"Nationality\", \"Prev_WC_Appearance\"]).nunique(\"ID\")"
   ]
  },
  {
   "cell_type": "code",
   "execution_count": null,
   "id": "99b7a75e",
   "metadata": {},
   "outputs": [],
   "source": [
    "df_wc3 = np.where(df_wc2[df_wc2[\"Prev_WC_Appearance\"]==\"False\"])\n",
    "df_wc3"
   ]
  },
  {
   "cell_type": "code",
   "execution_count": null,
   "id": "c7e51eb1",
   "metadata": {},
   "outputs": [],
   "source": []
  }
 ],
 "metadata": {
  "kernelspec": {
   "display_name": "Python 3 (ipykernel)",
   "language": "python",
   "name": "python3"
  },
  "language_info": {
   "codemirror_mode": {
    "name": "ipython",
    "version": 3
   },
   "file_extension": ".py",
   "mimetype": "text/x-python",
   "name": "python",
   "nbconvert_exporter": "python",
   "pygments_lexer": "ipython3",
   "version": "3.9.7"
  }
 },
 "nbformat": 4,
 "nbformat_minor": 5
}
