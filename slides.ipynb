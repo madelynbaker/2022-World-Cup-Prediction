{
 "cells": [
  {
   "cell_type": "markdown",
   "id": "2359df42",
   "metadata": {
    "slideshow": {
     "slide_type": "slide"
    }
   },
   "source": [
    "# GOOOAALLL!!!!\n",
    "![](images/worldcup.png)\n",
    "## Predicting the 2022 FIFA World Cup winner"
   ]
  },
  {
   "cell_type": "markdown",
   "id": "2542261d",
   "metadata": {
    "slideshow": {
     "slide_type": "subslide"
    }
   },
   "source": [
    "![](images/bracket.png)\n",
    "##### *32 teams \n",
    "##### *64 games\n",
    "##### *5 rounds"
   ]
  },
  {
   "cell_type": "markdown",
   "id": "398b71c1",
   "metadata": {},
   "source": [
    "# <u> Context:<u>\n",
    "* The 2022 FIFA World Cup starts on November 20, 2022 in Quatar. \n",
    "* Based on World Cup Qualifying matches, 32 teams have qualified for the World cup in Quatar as shown above.\n",
    "* These 32 teams have the opportunity to compete for the renowned title <u> World Cup Champion. \n",
    "* The World Cup progresses in five rounds: the group round, the round of 16, quarter-finals, semi-finals, and then the final match.\n",
    "<br>\n",
    "\n",
    "* The teams are divided into 8 pre-selected groups as shown above, where only the top two teams per Group will progress to the round of 16.\n",
    "* The round of 16 games are single elimination to progress to the quarterfinals (8 teams)\n",
    "* The winners of the quarter finals move on to the semi-finals (4 teams)\n",
    "* Finally, the final two teams compete for the World Cup championship\n",
    "\n",
    "<br>\n",
    "\n",
    "'Team' and 'Country' will be used interchangeably throughout this presentation.\n",
    "<br>\n",
    "'Football' and 'Soccer' will also be used interchangeably throughout this presentation."
   ]
  },
  {
   "cell_type": "markdown",
   "id": "8a1bb2a9",
   "metadata": {
    "slideshow": {
     "slide_type": "slide"
    }
   },
   "source": [
    "# <u> Our approach:<u>\n",
    "* Problem definition \n",
    "    * Define the target\n",
    "* Data Collection\n",
    "    * <i> \"Who will win the FIFA World Cup?\" <i> --> \"What are the defining characteristics of a winning team?\"\n",
    "        * Historic World Cup matches and past team performance\n",
    "        * Current Player features\n",
    "* Data cleaning and structuring\n",
    "* Analysis and Modeling \n",
    "    * Explore data\n",
    "    * Develop model (logistic regression)\n",
    "    * Refine model\n",
    "* Validation\n",
    "    * Predict match results based on model and discuss results\n",
    "* Insights\n",
    "    * Ultimately, predict the FIFA World Cup Champion.\n"
   ]
  },
  {
   "cell_type": "markdown",
   "id": "b27f55cf",
   "metadata": {},
   "source": [
    "# <u> Problem Definition:<u>\n",
    "*  Defined the model's target:<br> \n",
    "   * Predict whether the team will win (2), draw (1), or loose (0) versus opponent in each match.\n",
    "* Brainstormed parameters that could affect the target (Will the team win, loose, or draw a match?)"
   ]
  },
  {
   "cell_type": "markdown",
   "id": "c4f45e88",
   "metadata": {},
   "source": [
    "# <u> Data Collection:<u>\n",
    "* Previous Football Matches and Outcomes (900 rows of data)\n",
    "* FIFA Rankings per Country (https://us.soccerway.com/teams/rankings/fifa/)\n",
    "* World Cup players and characteristics\n",
    "    <br>\n",
    "* 2022 FIFA World Cup Schedule"
   ]
  },
  {
   "cell_type": "markdown",
   "id": "94667952",
   "metadata": {
    "slideshow": {
     "slide_type": "subslide"
    }
   },
   "source": [
    "# <u> Data Cleaning and Structuring:<u>\n",
    "* Visualize data to remove extraneous datasets\n",
    "* Remove inconsistent datasets\n",
    "* Remove nearly identical datasets <br><br>\n",
    "\n",
    "Notice the below structure:\n",
    "\n",
    "* Cleaning and structuring features per country\n",
    "* Cleaning and structuring features per historic match"
   ]
  },
  {
   "cell_type": "markdown",
   "id": "f0f41256",
   "metadata": {},
   "source": [
    "# <u> Features per Country:<u>"
   ]
  },
  {
   "cell_type": "markdown",
   "id": "dd89f6b6",
   "metadata": {
    "slideshow": {
     "slide_type": "slide"
    }
   },
   "source": [
    "# <b>Current FIFA Rankings per Country\n",
    "Filtered for teams who qualified and are playing at the 2022 World Cup<br><br>\n",
    "Original:\n",
    "![](images/fifa_rank_old.PNG) <br>\n",
    "Cleaned:\n",
    "![](images/fifa_rank_new.PNG)"
   ]
  },
  {
   "cell_type": "markdown",
   "id": "ec672e06",
   "metadata": {
    "slideshow": {
     "slide_type": "slide"
    }
   },
   "source": [
    "# <b>Historic Win Ratios per Country since 1970\n",
    "Filtered for teams who qualified and are playing at the 2022 World Cup<br><br>\n",
    "\n",
    "![](images/new_win_to_played.png) \n",
    "![](images/all_ratios_table.png)"
   ]
  },
  {
   "cell_type": "markdown",
   "id": "d2a24e71",
   "metadata": {
    "slideshow": {
     "slide_type": "subslide"
    }
   },
   "source": [
    "# <b>Historic Average Win and Loss Margin per Country since 1970\n",
    "Filtered for teams who qualified and are playing at the 2022 World Cup<br><br>\n",
    "\n",
    "![](images/new_margins.png)\n",
    "![](images/all_margins_table.png)"
   ]
  },
  {
   "cell_type": "markdown",
   "id": "2239137d",
   "metadata": {
    "slideshow": {
     "slide_type": "subslide"
    }
   },
   "source": [
    "# <b>Frequency of advancing to the listed stage per Country since 1970\n",
    "Filtered for teams who qualified and are playing at the 2022 World Cup <br>\n",
    "\n",
    "Screenshot of dataframe \n",
    "<br> \n",
    "![](images/advancing_teams.png)"
   ]
  },
  {
   "cell_type": "markdown",
   "id": "0d76175a",
   "metadata": {
    "slideshow": {
     "slide_type": "slide"
    }
   },
   "source": [
    "# <b>Average value of all current player features associated with that Country\n",
    "Filtered for qualified country teams and are playing at the 2022 World Cup <br>\n",
    "\n",
    "## <u> Averaged ALL Player features (Integers): <u>\n",
    " * Overall Ability\n",
    " * Age\n",
    " * Stamina\n",
    " * Dribbling\n",
    " * Wage<br><b> However, this kind of analysis does not provide clarity on what player features makes a team WIN or DRAW or LOSE."
   ]
  },
  {
   "cell_type": "markdown",
   "id": "415d07d6",
   "metadata": {
    "slideshow": {
     "slide_type": "slide"
    }
   },
   "source": [
    "## <u> Top Player features (correlation matrix + model): <u><br>\n",
    "Used a random forest classifier model to predict which player features are important in predicting a successful team. <br>\n",
    "Target: A binary classifier to predict if the current country's players had 4 or more, 5 or more, or 9 or more lifetime world cup appearances.\n",
    "    \n",
    "  \n",
    "Target used: If players had 4, 5, or 9 or more Lifetime WC Apperances or not (Binary classification)\n",
    "Training Score: 0.9981\n",
    "Testing Score: 0.6264\n",
    "--------------------------------------------------\n",
    "Average Importance of All Features: 0.0244\n",
    "Maximum Importance of All Features: 0.0438\n",
    "Minimum Importance of All Features: 0.0041\n",
    "--------------------------------------------------\n",
    "The Top 20 Most Important Features Impacting a Player's World Cup Apperance:\n",
    "['Composure', 'Overall', 'Potential', 'Volleys', 'Reactions', 'FKAcc', 'Jumping', 'Penalties', 'Aggression', 'SprintSpeed', 'Crossing', 'LongPass', 'Age', 'GKPositioning', 'Marking', 'Agility', 'GKKicking', 'BallControl', 'Curve', 'SlideTackle']\n",
    "\n",
    "Further optimization was not deemed necessary, as this model was mainly used to generate important features into the overarching model on match predictions.\n",
    "    \n",
    "    \n",
    "## <u> Feature Importance: <u>\n",
    "\n",
    "![](images/correlation_matrix.png)\n",
    "![](images/player_characteristics.png) <br>\n",
    "\n",
    "Five of these features were chosen as the \"top\" features per country:<br> \n",
    " * Avg Composure\n",
    " * Avg Overall Ability\n",
    " * Avg Potential\n",
    " * Avg Volleys\n",
    " * Avg Reactions"
   ]
  },
  {
   "cell_type": "markdown",
   "id": "8d0c16b7",
   "metadata": {
    "slideshow": {
     "slide_type": "slide"
    }
   },
   "source": [
    "Merged features on Country:<br><br>\n",
    "Code<br>\n",
    "![](images/merge_on_country.png)<br>\n",
    "Table\n",
    "![](images/features_per_country.png)   \n"
   ]
  },
  {
   "cell_type": "markdown",
   "id": "8f368f45",
   "metadata": {
    "slideshow": {
     "slide_type": "slide"
    }
   },
   "source": [
    "# Additional features per country\n",
    "Additional features were created on total match features from 1970-2018 World Cups, but were not used in the compiled dataframe above- and were not filtered on WC matches.\n",
    "Additional features could be added in an iterative approach if given more time to iterate on the problem and model.\n",
    "![](images/match_features_country.png) \n"
   ]
  },
  {
   "cell_type": "markdown",
   "id": "5ebf02db",
   "metadata": {},
   "source": [
    "# <u> Features per Match:<u>"
   ]
  },
  {
   "cell_type": "markdown",
   "id": "8e9343aa",
   "metadata": {},
   "source": [
    "# <b>Historic Matches\n",
    "* Filtered for World Cup and World Cup qualifying matches only. \n",
    "* Filtered out data before 1970. (1930-1970). <br>\n",
    "Original:\n",
    "![](images/df_matches_img.png) <br>\n",
    "\n",
    "Cleaned:\n",
    "![](images/historic_matches_relevant.png) "
   ]
  },
  {
   "cell_type": "markdown",
   "id": "fc29f6a5",
   "metadata": {
    "slideshow": {
     "slide_type": "slide"
    }
   },
   "source": [
    "# <u> Data Structuring:<u>\n",
    "* Because we had to structure the model to take in as much data as possible (train model to make a good prediction), we decided to structure our data frame on a match per match basis instead of a per country basis (32 countries only).\n",
    "* Merged the team/country features based on which team was defined as the \"home_team\" within the cleaned historic match dataframe shown above.\n",
    "* Used \"get_dummies\" to convert the categorical team variables indicating the country match into dummy/indicator variables\n",
    "\n",
    "![](images/model_df.png) <br>"
   ]
  },
  {
   "cell_type": "markdown",
   "id": "83c50af2",
   "metadata": {},
   "source": [
    "# <u> Analysis and Modeling:<u>\n",
    "\n",
    "* Split the model into X and y training and testing sets. \n",
    "* y, the target, is defined as the match result. \n",
    "    * 2 = WIN\n",
    "    * 1 = DRAW\n",
    "    * 0 = LOOSE\n",
    "![](images/train_def.png) <br>\n",
    "* Used a standard scaler on X_train variables\n",
    "\n",
    "* Developed model using random forest classifier\n",
    "    \n",
    "Training set accuracy:  0.550\n",
    "Test set accuracy:  0.508\n",
    "   \n",
    "* Refine model"
   ]
  },
  {
   "cell_type": "markdown",
   "id": "d1354f89",
   "metadata": {},
   "source": [
    "# <u> Data Structuring of Target:\n",
    "* Based on the X_train, the test dataset will need to be structured similarly.<br>\n",
    "* Uploaded World Cup schedule into a CSV file.<br>\n",
    "* Structure World Cup schedule to be the same format as the X_train<br>\n",
    "    "
   ]
  },
  {
   "cell_type": "markdown",
   "id": "5fd4d48f",
   "metadata": {},
   "source": [
    "Model:\n",
    "* Use the model to predict Group Stage outcome<br>\n",
    "\n",
    "Validation:\n",
    "* Does this seem right?\n",
    "\n",
    "Insights:\n",
    "* From the Group Stage, use the model to predict who will reach the round of 16. \n",
    "* From the Round of 16, use the model to predict who will reach the semifinals.\n",
    "* From the semifinals, use the model to predict who will reach the quarterfinals.\n",
    "* From the quarterfinals, use the model to predict who will reach the finals.\n",
    "* Use the model to predict the 2022 FIFA World Cup Champion.\n",
    "# ADD IMAGE of Model, Group games, and more."
   ]
  },
  {
   "cell_type": "code",
   "execution_count": null,
   "id": "7d656d20",
   "metadata": {},
   "outputs": [],
   "source": []
  }
 ],
 "metadata": {
  "celltoolbar": "Slideshow",
  "kernelspec": {
   "display_name": "Python 3 (ipykernel)",
   "language": "python",
   "name": "python3"
  },
  "language_info": {
   "codemirror_mode": {
    "name": "ipython",
    "version": 3
   },
   "file_extension": ".py",
   "mimetype": "text/x-python",
   "name": "python",
   "nbconvert_exporter": "python",
   "pygments_lexer": "ipython3",
   "version": "3.7.11"
  },
  "rise": {
   "theme": "sky",
   "transition": "zoom"
  }
 },
 "nbformat": 4,
 "nbformat_minor": 5
}
