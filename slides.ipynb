{
 "cells": [
  {
   "cell_type": "code",
   "execution_count": 9,
   "id": "3103caf7",
   "metadata": {},
   "outputs": [
    {
     "data": {
      "text/plain": [
       "{'theme': 'sky', 'transition': 'zoom', 'width': '90%', 'height': '90%'}"
      ]
     },
     "execution_count": 9,
     "metadata": {},
     "output_type": "execute_result"
    }
   ],
   "source": [
    "#!/usr/bin/env python3\n",
    "from traitlets.config.manager import BaseJSONConfigManager\n",
    "from pathlib import Path\n",
    "path = Path.home() / \".jupyter\" / \"nbconfig\"\n",
    "cm = BaseJSONConfigManager(config_dir=str(path))\n",
    "cm.update(\n",
    "    \"rise\",\n",
    "    {\n",
    "        \"theme\": \"sky\",\n",
    "        \"transition\": \"zoom\",\n",
    "        \"width\": \"90%\",\n",
    "        \"height\": \"90%\"\n",
    "     }\n",
    ")"
   ]
  },
  {
   "cell_type": "markdown",
   "id": "2359df42",
   "metadata": {
    "slideshow": {
     "slide_type": "slide"
    }
   },
   "source": [
    "# GOOOAALLL!!!!\n",
    "![](worldcup.png)\n",
    "## Predicting the 2022 World Cup winner"
   ]
  },
  {
   "cell_type": "markdown",
   "id": "2542261d",
   "metadata": {
    "slideshow": {
     "slide_type": "subslide"
    }
   },
   "source": [
    "![](bracket.png)\n",
    "##### *32 teams \n",
    "##### *64 games\n",
    "##### *5 rounds"
   ]
  },
  {
   "cell_type": "markdown",
   "id": "bcb94b90",
   "metadata": {
    "slideshow": {
     "slide_type": "slide"
    }
   },
   "source": [
    "# Our approach: \n",
    "## * Refining our question (\"who will win?\" --> \"what are the defining characteristics of a winning team?\")\n",
    "## * Data Sources (Historic matches, player features, etc.)\n",
    "## * Running the model (logistic regression)\n"
   ]
  },
  {
   "cell_type": "markdown",
   "id": "c7a01658",
   "metadata": {
    "slideshow": {
     "slide_type": "subslide"
    }
   },
   "source": [
    "# Defining a winning team\n",
    "## <u> Team features: <u>\n",
    "### * # WC appearances\n",
    "### * Win/total matches ratio\n",
    "### * Average win/loss margins\n"
   ]
  },
  {
   "cell_type": "markdown",
   "id": "2b7137cd",
   "metadata": {
    "slideshow": {
     "slide_type": "slide"
    }
   },
   "source": [
    "## Proportion of team games won \n",
    "![](win_ratio.png) \n",
    "![](all_ratios_table.png)"
   ]
  },
  {
   "cell_type": "markdown",
   "id": "dcd7fb89",
   "metadata": {
    "slideshow": {
     "slide_type": "subslide"
    }
   },
   "source": [
    "# Average win/loss margins for each team\n",
    "![](win_lose_margins.png)\n",
    "![](all_margins_table.png)"
   ]
  },
  {
   "cell_type": "code",
   "execution_count": 10,
   "id": "65606bc1",
   "metadata": {},
   "outputs": [],
   "source": [
    "# for team data: anisha's stages"
   ]
  },
  {
   "cell_type": "markdown",
   "id": "3415c8f1",
   "metadata": {
    "slideshow": {
     "slide_type": "slide"
    }
   },
   "source": [
    "## <u> Player features: <u>\n",
    "### * Age\n",
    "### * Lifetime WC appearances\n",
    "### * # goals\n",
    "### * FIFA ratings"
   ]
  },
  {
   "cell_type": "code",
   "execution_count": null,
   "id": "bf61d44b",
   "metadata": {
    "slideshow": {
     "slide_type": "slide"
    }
   },
   "outputs": [],
   "source": []
  }
 ],
 "metadata": {
  "celltoolbar": "Slideshow",
  "kernelspec": {
   "display_name": "Python 3 (ipykernel)",
   "language": "python",
   "name": "python3"
  },
  "language_info": {
   "codemirror_mode": {
    "name": "ipython",
    "version": 3
   },
   "file_extension": ".py",
   "mimetype": "text/x-python",
   "name": "python",
   "nbconvert_exporter": "python",
   "pygments_lexer": "ipython3",
   "version": "3.9.7"
  },
  "rise": {
   "theme": "sky",
   "transition": "zoom"
  }
 },
 "nbformat": 4,
 "nbformat_minor": 5
}
