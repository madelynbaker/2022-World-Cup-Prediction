{
 "cells": [
  {
   "cell_type": "code",
   "execution_count": 1,
   "id": "a951a3c6",
   "metadata": {},
   "outputs": [
    {
     "data": {
      "text/plain": [
       "{'theme': 'sky', 'transition': 'zoom', 'width': '40%', 'height': '40%'}"
      ]
     },
     "execution_count": 1,
     "metadata": {},
     "output_type": "execute_result"
    }
   ],
   "source": [
    "#!/usr/bin/env python3\n",
    "from traitlets.config.manager import BaseJSONConfigManager\n",
    "from pathlib import Path\n",
    "path = Path.home() / \".jupyter\" / \"nbconfig\"\n",
    "cm = BaseJSONConfigManager(config_dir=str(path))\n",
    "cm.update(\n",
    "    \"rise\",\n",
    "    {\n",
    "        \"theme\": \"sky\",\n",
    "        \"transition\": \"zoom\",\n",
    "        \"width\": \"40%\",\n",
    "        \"height\": \"40%\"\n",
    "     }\n",
    ")"
   ]
  },
  {
   "cell_type": "markdown",
   "id": "2359df42",
   "metadata": {
    "slideshow": {
     "slide_type": "slide"
    }
   },
   "source": [
    "# GOOOAALLL!!!!\n",
    "![](images/worldcup.png)\n",
    "## Predicting the 2022 World Cup winner"
   ]
  },
  {
   "cell_type": "markdown",
   "id": "2542261d",
   "metadata": {
    "slideshow": {
     "slide_type": "subslide"
    }
   },
   "source": [
    "![](images/bracket.png)\n",
    "##### *32 teams \n",
    "##### *64 games\n",
    "##### *5 rounds"
   ]
  },
  {
   "cell_type": "markdown",
   "id": "8a1bb2a9",
   "metadata": {
    "slideshow": {
     "slide_type": "slide"
    }
   },
   "source": [
    "# <u> Our approach: <u>\n",
    "## * Refining our question (<i> \"who will win?\" <i> --> \"what are the defining characteristics of a winning team?\")\n",
    "## * Data Sources (Historic matches, player features, etc.)\n",
    "## * Running the model (logistic regression)\n"
   ]
  },
  {
   "cell_type": "markdown",
   "id": "94667952",
   "metadata": {
    "slideshow": {
     "slide_type": "subslide"
    }
   },
   "source": [
    "# Defining a winning team\n",
    "## <u> Team features: <u>\n",
    "### * # WC appearances\n",
    "### * Win/total matches ratio\n",
    "### * Average win/loss margins\n"
   ]
  },
  {
   "cell_type": "markdown",
   "id": "ec672e06",
   "metadata": {
    "slideshow": {
     "slide_type": "slide"
    }
   },
   "source": [
    "![](images/new_win_to_played.png) \n",
    "![](images/all_ratios_table.png)"
   ]
  },
  {
   "cell_type": "markdown",
   "id": "d2a24e71",
   "metadata": {
    "slideshow": {
     "slide_type": "subslide"
    }
   },
   "source": [
    "![](images/new_margins.png)\n",
    "![](images/all_margins_table.png)"
   ]
  },
  {
   "cell_type": "markdown",
   "id": "61ab1aa4",
   "metadata": {
    "slideshow": {
     "slide_type": "slide"
    }
   },
   "source": [
    "## Countries' frequency of advances\n",
    "![](images/adv_table.png) "
   ]
  },
  {
   "cell_type": "markdown",
   "id": "415d07d6",
   "metadata": {
    "slideshow": {
     "slide_type": "slide"
    }
   },
   "source": [
    "## <u> Player features: <u>\n",
    "### * Age\n",
    "### * Lifetime WC appearances\n",
    "### * # goals\n",
    "### * FIFA ratings"
   ]
  },
  {
   "cell_type": "code",
   "execution_count": null,
   "id": "c16f8f67",
   "metadata": {
    "slideshow": {
     "slide_type": "slide"
    }
   },
   "outputs": [],
   "source": []
  }
 ],
 "metadata": {
  "celltoolbar": "Slideshow",
  "kernelspec": {
   "display_name": "Python 3 (ipykernel)",
   "language": "python",
   "name": "python3"
  },
  "language_info": {
   "codemirror_mode": {
    "name": "ipython",
    "version": 3
   },
   "file_extension": ".py",
   "mimetype": "text/x-python",
   "name": "python",
   "nbconvert_exporter": "python",
   "pygments_lexer": "ipython3",
   "version": "3.9.7"
  },
  "rise": {
   "theme": "sky",
   "transition": "zoom"
  }
 },
 "nbformat": 4,
 "nbformat_minor": 5
}
