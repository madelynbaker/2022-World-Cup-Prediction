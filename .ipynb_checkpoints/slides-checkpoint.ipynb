{
 "cells": [
  {
   "cell_type": "code",
   "execution_count": 2,
   "id": "a951a3c6",
   "metadata": {},
   "outputs": [],
   "source": [
    "# #!/usr/bin/env python3\n",
    "# from traitlets.config.manager import BaseJSONConfigManager\n",
    "# from pathlib import Path\n",
    "# path = Path.home() / \".jupyter\" / \"nbconfig\"\n",
    "# cm = BaseJSONConfigManager(config_dir=str(path))\n",
    "# cm.update(\n",
    "#     \"rise\",\n",
    "#     {\n",
    "#         \"theme\": \"sky\",\n",
    "#         \"transition\": \"zoom\",\n",
    "#         \"width\": \"40%\",\n",
    "#         \"height\": \"40%\"\n",
    "#      }\n",
    "# )"
   ]
  },
  {
   "cell_type": "markdown",
   "id": "2359df42",
   "metadata": {
    "slideshow": {
     "slide_type": "slide"
    }
   },
   "source": [
    "# GOOOAALLL!!!!\n",
    "![](images/worldcup.png)\n",
    "## Predicting the 2022 FIFA World Cup winner"
   ]
  },
  {
   "cell_type": "markdown",
   "id": "2542261d",
   "metadata": {
    "slideshow": {
     "slide_type": "subslide"
    }
   },
   "source": [
    "![](images/bracket.png)\n",
    "##### *32 teams \n",
    "##### *64 games\n",
    "##### *5 rounds"
   ]
  },
  {
   "cell_type": "code",
   "execution_count": null,
   "id": "cf4a45d8",
   "metadata": {},
   "outputs": [],
   "source": [
    "# <u> Context: <u>\n",
    "# The 2022 FIFA World Cup starts on November 20, 2022 in Quatar. \n",
    "# There are 32 teams who have qualified for the world cup in Quatar based on World Cup Qualifying Matches as shown above.\n",
    "# The teams are divided into 8 groups, where only the top two teams per Group will progress to the round of 16.\n",
    "# The round of 16 games are single elimination to progress to the semifinals.\n",
    "# The "
   ]
  },
  {
   "cell_type": "markdown",
   "id": "8a1bb2a9",
   "metadata": {
    "slideshow": {
     "slide_type": "slide"
    }
   },
   "source": [
    "# <u> Our approach: <u>\n",
    "* Problem defintion \n",
    "    * Defining the model's target: Predict whether the team will win (2), loose (1), or draw (0) versus opponent in each match. \n",
    "* Data Collection\n",
    "    * <i> \"Who will win the FIFA World Cup?\" <i> --> \"What are the defining characteristics of a winning team?\")\n",
    "        * Historic World Cup matches and past team performance\n",
    "        * Current Player features\n",
    "* Data cleaning and structuring\n",
    "* Analysis and Modelling \n",
    "    * Explore data\n",
    "    * Develop model (logistic regression)\n",
    "    * Refine model\n",
    "Validation\n",
    "    * Predict match results based on model and discuss results\n",
    "Insights\n",
    "    * Ultimately, predict the FIFA World Cup Champion.\n"
   ]
  },
  {
   "cell_type": "markdown",
   "id": "94667952",
   "metadata": {
    "slideshow": {
     "slide_type": "subslide"
    }
   },
   "source": [
    "# Defining a winning team\n",
    "## <u> Team features: <u>\n",
    "### * # WC appearances\n",
    "### * Win/total matches ratio\n",
    "### * Average win/loss margins\n"
   ]
  },
  {
   "cell_type": "markdown",
   "id": "ec672e06",
   "metadata": {
    "slideshow": {
     "slide_type": "slide"
    }
   },
   "source": [
    "![](images/new_win_to_played.png) \n",
    "![](images/all_ratios_table.png)"
   ]
  },
  {
   "cell_type": "markdown",
   "id": "d2a24e71",
   "metadata": {
    "slideshow": {
     "slide_type": "subslide"
    }
   },
   "source": [
    "![](images/new_margins.png)\n",
    "![](images/all_margins_table.png)"
   ]
  },
  {
   "cell_type": "markdown",
   "id": "61ab1aa4",
   "metadata": {
    "slideshow": {
     "slide_type": "slide"
    }
   },
   "source": [
    "## Countries' frequency of advances\n",
    "![](images/adv_table.png) "
   ]
  },
  {
   "cell_type": "markdown",
   "id": "415d07d6",
   "metadata": {
    "slideshow": {
     "slide_type": "slide"
    }
   },
   "source": [
    "## <u> Player features: <u>\n",
    "### * Age\n",
    "### * Lifetime WC appearances\n",
    "### * # goals\n",
    "### * FIFA ratings"
   ]
  },
  {
   "cell_type": "code",
   "execution_count": null,
   "id": "c16f8f67",
   "metadata": {
    "slideshow": {
     "slide_type": "slide"
    }
   },
   "outputs": [],
   "source": []
  }
 ],
 "metadata": {
  "celltoolbar": "Slideshow",
  "kernelspec": {
   "display_name": "Python 3 (ipykernel)",
   "language": "python",
   "name": "python3"
  },
  "language_info": {
   "codemirror_mode": {
    "name": "ipython",
    "version": 3
   },
   "file_extension": ".py",
   "mimetype": "text/x-python",
   "name": "python",
   "nbconvert_exporter": "python",
   "pygments_lexer": "ipython3",
   "version": "3.7.11"
  },
  "rise": {
   "theme": "sky",
   "transition": "zoom"
  }
 },
 "nbformat": 4,
 "nbformat_minor": 5
}
