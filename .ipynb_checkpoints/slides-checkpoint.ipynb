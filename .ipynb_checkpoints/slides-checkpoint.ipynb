{
 "cells": [
  {
   "cell_type": "markdown",
   "id": "2359df42",
   "metadata": {
    "slideshow": {
     "slide_type": "slide"
    }
   },
   "source": [
    "# GOOOAALLL!!!!\n",
    "![](images/worldcup.png)\n",
    "## Predicting the 2022 FIFA World Cup winner"
   ]
  },
  {
   "cell_type": "markdown",
   "id": "2542261d",
   "metadata": {
    "slideshow": {
     "slide_type": "subslide"
    }
   },
   "source": [
    "![](images/bracket.png)\n",
    "##### *32 teams \n",
    "##### *64 games\n",
    "##### *5 rounds"
   ]
  },
  {
   "cell_type": "markdown",
   "id": "40787d5d",
   "metadata": {},
   "source": [
    "# <u> Context:<u>\n",
    "* The 2022 FIFA World Cup starts on November 20, 2022 in Quatar. \n",
    "* Based on World Cup Qualifying matches, 32 teams have qualified for the World cup in Quatar as shown above.\n",
    "* These 32 teams have the opportunity to compete for the renowned title <u> World Cup Champion. \n",
    "* The World Cup progresses in five rounds: the group round, the round of 16, quarter-finals, semi-finals, and then the final match.\n",
    "<br>\n",
    "\n",
    "* The teams are divided into 8 pre-selected groups as shown above, where only the top two teams per Group will progress to the round of 16.\n",
    "* The round of 16 games are single elimination to progress to the quarterfinals (8 teams)\n",
    "* The winners of the quarter finals move on to the semi-finals (4 teams)\n",
    "* Finally, the final two teams compete for the World Cup championship\n",
    "\n",
    "<br>\n",
    "\n",
    "'Team' and 'Country' will be used interchangeably throughout this presentation.\n",
    "<br>\n",
    "'Football' and 'Soccer' will also be used interchangeably throughout this presentation."
   ]
  },
  {
   "cell_type": "markdown",
   "id": "8a1bb2a9",
   "metadata": {
    "slideshow": {
     "slide_type": "slide"
    }
   },
   "source": [
    "# <u> Our approach:<u>\n",
    "* Problem definition \n",
    "    * Define the target\n",
    "* Data Collection\n",
    "    * <i> \"Who will win the FIFA World Cup?\" <i> --> \"What are the defining characteristics of a winning team?\"\n",
    "        * Historic World Cup matches and past team performance\n",
    "        * Current Player features\n",
    "* Data cleaning and structuring\n",
    "* Analysis and Modelling \n",
    "    * Explore data\n",
    "    * Develop model (logistic regression)\n",
    "    * Refine model\n",
    "Validation\n",
    "    * Predict match results based on model and discuss results\n",
    "Insights\n",
    "    * Ultimately, predict the FIFA World Cup Champion.\n"
   ]
  },
  {
   "cell_type": "markdown",
   "id": "87891293",
   "metadata": {},
   "source": [
    "# <u> Problem Definition:<u>\n",
    "*  Defined the model's target:<br> \n",
    "   * Predict whether the team will win (2), loose (1), or draw (0) versus opponent in each match.\n",
    "* Brainstormed parameters that could affect the target (Will the team win, loose, or draw a match?)"
   ]
  },
  {
   "cell_type": "markdown",
   "id": "d6f19816",
   "metadata": {},
   "source": [
    "# <u> Data Collection:<u>\n",
    "* Previous Football Matches and Outcomes (900 rows of data)\n",
    "* FIFA Rankings per Country (https://us.soccerway.com/teams/rankings/fifa/)\n",
    "* World Cup players and characteristics\n",
    "    <br>\n",
    "* 2022 FIFA World Cup Schedule"
   ]
  },
  {
   "cell_type": "markdown",
   "id": "94667952",
   "metadata": {
    "slideshow": {
     "slide_type": "subslide"
    }
   },
   "source": [
    "# <u> Data Cleaning and Structuring:<u>\n",
    "* Visualize data to remove extraneous datasets\n",
    "* Remove inconsistent datasets\n",
    "* Remove nearly identical datasets <br><br>\n",
    "\n",
    "Notice the below structuring methods\n",
    "\n",
    "* Cleaning and structuring features per country\n",
    "* Cleaning and structuring features per match"
   ]
  },
  {
   "cell_type": "markdown",
   "id": "f1b602ba",
   "metadata": {},
   "source": [
    "# <u> Features per Country:<u>"
   ]
  },
  {
   "attachments": {},
   "cell_type": "markdown",
   "id": "4e9f05e6",
   "metadata": {
    "slideshow": {
     "slide_type": "slide"
    }
   },
   "source": [
    "<b>Current FIFA Rankings per Country <br>\n",
    "Filtered for teams who qualified and are playing at the 2022 World Cup<br><br>\n",
    "Original:\n",
    "![](images/fifa_rank_old.PNG) <br>\n",
    "Cleaned:\n",
    "![](images/fifa_rank_new.PNG)"
   ]
  },
  {
   "cell_type": "markdown",
   "id": "ec672e06",
   "metadata": {
    "slideshow": {
     "slide_type": "slide"
    }
   },
   "source": [
    "<b>Historic Average Win Ratios per Country since 1970 <br>\n",
    "Filtered for teams who qualified and are playing at the 2022 World Cup<br><br>\n",
    "\n",
    "![](images/new_win_to_played.png) \n",
    "![](images/all_ratios_table.png)"
   ]
  },
  {
   "cell_type": "markdown",
   "id": "d2a24e71",
   "metadata": {
    "slideshow": {
     "slide_type": "subslide"
    }
   },
   "source": [
    "<b>Historic Average Win and Loss Margin per Country since 1970 <br>\n",
    "Filtered for teams who qualified and are playing at the 2022 World Cup<br><br>\n",
    "\n",
    "![](images/new_margins.png)\n",
    "![](images/all_margins_table.png)"
   ]
  },
  {
   "cell_type": "markdown",
   "id": "61ab1aa4",
   "metadata": {
    "slideshow": {
     "slide_type": "slide"
    }
   },
   "source": [
    "## Countries' frequency of advances\n",
    "![](images/adv_table.png) "
   ]
  },
  {
   "cell_type": "code",
   "execution_count": null,
   "id": "d5a348f0",
   "metadata": {},
   "outputs": [],
   "source": [
    "### * # World Cup appearances\n",
    "### * Win/total matches ratio\n",
    "### * Average win/loss margins"
   ]
  },
  {
   "cell_type": "markdown",
   "id": "415d07d6",
   "metadata": {
    "slideshow": {
     "slide_type": "slide"
    }
   },
   "source": [
    "## <u> Player features: <u>\n",
    "### * Age\n",
    "### * Lifetime WC appearances\n",
    "### * # goals\n",
    "### * FIFA ratings"
   ]
  },
  {
   "cell_type": "markdown",
   "id": "1f8d826e",
   "metadata": {},
   "source": [
    "# <u> Data Structuring:<u>\n",
    "* Country level data\n",
    "* Match level data"
   ]
  },
  {
   "cell_type": "code",
   "execution_count": null,
   "id": "c16f8f67",
   "metadata": {
    "slideshow": {
     "slide_type": "slide"
    }
   },
   "outputs": [],
   "source": []
  }
 ],
 "metadata": {
  "celltoolbar": "Slideshow",
  "kernelspec": {
   "display_name": "Python 3 (ipykernel)",
   "language": "python",
   "name": "python3"
  },
  "language_info": {
   "codemirror_mode": {
    "name": "ipython",
    "version": 3
   },
   "file_extension": ".py",
   "mimetype": "text/x-python",
   "name": "python",
   "nbconvert_exporter": "python",
   "pygments_lexer": "ipython3",
   "version": "3.7.11"
  },
  "rise": {
   "theme": "sky",
   "transition": "zoom"
  }
 },
 "nbformat": 4,
 "nbformat_minor": 5
}
