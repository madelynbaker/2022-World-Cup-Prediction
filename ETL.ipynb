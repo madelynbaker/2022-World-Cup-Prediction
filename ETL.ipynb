{
 "cells": [
  {
   "cell_type": "code",
   "execution_count": 1,
   "id": "72b3d482",
   "metadata": {},
   "outputs": [],
   "source": [
    "# run dependencies\n",
    "# !pip install xgboost\n",
    "# !pip install shap\n",
    "\n",
    "import pandas as pd\n",
    "import numpy as np\n",
    "import seaborn as sn\n",
    "from sqlalchemy import create_engine\n",
    "\n",
    "from sklearn.model_selection import train_test_split\n",
    "from sklearn.preprocessing import StandardScaler\n",
    "from sklearn.ensemble import RandomForestClassifier\n",
    "\n",
    "# import xgboost\n",
    "# import shap\n",
    "\n",
    "import matplotlib.pyplot as plt"
   ]
  },
  {
   "cell_type": "code",
   "execution_count": 2,
   "id": "e6cb08d5",
   "metadata": {},
   "outputs": [],
   "source": [
    "# CSV FILES\n",
    "player_appearances_csv = \"Data/player_appearances.csv\"\n",
    "players_csv = \"Data/players.csv\"\n",
    "matches_csv = \"Data/matches.csv\"\n",
    "data2021_csv = \"Data/Players_EAFIFA/2021.csv\""
   ]
  },
  {
   "cell_type": "code",
   "execution_count": 3,
   "id": "030bf155",
   "metadata": {},
   "outputs": [],
   "source": [
    "# READ CSV FILES\n",
    "playerApps_df = pd.read_csv(player_appearances_csv)\n",
    "player_df = pd.read_csv(players_csv)\n",
    "data_df = pd.read_csv(data2021_csv)\n",
    "matches_df = pd.read_csv(matches_csv)\n",
    "\n",
    "# CLEAN UP \n",
    "playerApps_df[\"Name\"] = playerApps_df[\"given_name\"] + \" \" + playerApps_df[\"family_name\"]\n",
    "\n",
    "dict = {'Overal': 'Overall',\n",
    "        'Natinality': 'Country'}\n",
    "data_df.rename(columns=dict,inplace = True)\n",
    "\n",
    "\n",
    "pd.set_option('display.max_columns', None)"
   ]
  },
  {
   "cell_type": "code",
   "execution_count": 4,
   "id": "a304d378",
   "metadata": {},
   "outputs": [],
   "source": [
    "# CREATE GROUPED DATAFRAME SHOWING LIFETIME NUMBER OF WORLD CUP MATCHES \n",
    "playersApps_df_grp = playerApps_df[[\"match_id\", \"player_id\", \"Name\"]].\\\n",
    "                            groupby([\"player_id\", \"Name\"]).nunique(\"match_id\")\n",
    "# playersApps_df_grp"
   ]
  },
  {
   "cell_type": "code",
   "execution_count": 5,
   "id": "74e272f1",
   "metadata": {},
   "outputs": [],
   "source": [
    "# IDENTIFYING 2022 WORLD CUP QUALIFYING TEAMS\n",
    "teams_2022 = ['Qatar', 'Netherlands', 'Senegal', 'Ecuador', \n",
    "            'England', 'United States', 'Wales', 'Iran', \n",
    "            'Argentina', 'Poland', 'Mexico', 'Saudi Arabia', \n",
    "            'France', 'Denmark', 'Tunisia', 'Australia', \n",
    "            'Germany', 'Spain', 'Japan', 'Costa Rica', \n",
    "            'Belgium', 'Croatia', 'Canada', 'Morocco', \n",
    "            'Brazil', 'Switzerland', 'Serbia', 'Cameroon', \n",
    "            'Portugal', 'Uruguay', 'Ghana', 'Korea Republic']"
   ]
  },
  {
   "cell_type": "code",
   "execution_count": 6,
   "id": "bb056bb8",
   "metadata": {},
   "outputs": [],
   "source": [
    "# MERGING DATAFRAMES\n",
    "\n",
    "# MERGE PLAYER APPEARNACES WITH PLAYER DATA TO GET ADDITIONAL DETAIL PER PLAYER\n",
    "player_info_df = pd.merge(playerApps_df, player_df, on = \"player_id\", how= \"inner\")\n",
    "\n",
    "# MERGE LIFETIME NUMBER OF WORLD CUP MATCHES ONTO PLAYER RECORDS FROM FIFA 2021 PLAYER SET\n",
    "df_wc = pd.merge(data_df,playersApps_df_grp, on=\"Name\", how=\"left\")\n",
    "df_wc = df_wc.rename(columns={\"match_id\":\"Lifetime_WC_Matches\"})\n",
    "\n",
    "# ---------- ADDING COLUMNS TO SERVE AS TARGETS: ----------\n",
    "# LIFETIME WORLD CUP APPEARANCES (TOTAL NUMBERS)\n",
    "df_wc.loc[df_wc[\"Lifetime_WC_Matches\"].notnull(), \"Lifetime_WC_Matches_Bin\"]=1\n",
    "# ----------\n",
    "# BINARY: WHERE LIFETIME MATCHES IS MORE THAN 3 \n",
    "    # (INDICATES ADVANCING THROUGH THE GROUP STAGE IF PLAYED IN ONE YEAR'S WORLD CUP \\\n",
    "    # OR MULTIPLE, SINGLE APPEARNACES AS QUALIFYING TEAM)\n",
    "df_wc.loc[df_wc[\"Lifetime_WC_Matches\"]>3, \"Lifetime_WC_Matches_Bin4\"]=1\n",
    "\n",
    "# ----------\n",
    "# BINARY: WHERE LIFETIME MATCHES IS MORE THAN 4 \n",
    "df_wc.loc[df_wc[\"Lifetime_WC_Matches\"]>4, \"Lifetime_WC_Matches_Bin5\"]=1\n",
    "\n",
    "# ----------\n",
    "# BINARY: WHERE LIFETIME MATCHES IS AT LEAST 9 (APPX MIDPOINT OF LIFETIME WC MATCHES VALUE COUNTS)\n",
    "df_wc.loc[df_wc[\"Lifetime_WC_Matches\"]>=9, \"Lifetime_WC_Matches_Bin10\"]=1\n",
    "\n",
    "# df_wc.info()"
   ]
  },
  {
   "cell_type": "code",
   "execution_count": 7,
   "id": "e5cd608f",
   "metadata": {
    "scrolled": true
   },
   "outputs": [
    {
     "data": {
      "text/html": [
       "<div>\n",
       "<style scoped>\n",
       "    .dataframe tbody tr th:only-of-type {\n",
       "        vertical-align: middle;\n",
       "    }\n",
       "\n",
       "    .dataframe tbody tr th {\n",
       "        vertical-align: top;\n",
       "    }\n",
       "\n",
       "    .dataframe thead th {\n",
       "        text-align: right;\n",
       "    }\n",
       "</style>\n",
       "<table border=\"1\" class=\"dataframe\">\n",
       "  <thead>\n",
       "    <tr style=\"text-align: right;\">\n",
       "      <th></th>\n",
       "      <th>key_id</th>\n",
       "      <th>player_id</th>\n",
       "      <th>family_name</th>\n",
       "      <th>given_name</th>\n",
       "      <th>birth_date</th>\n",
       "      <th>goal_keeper</th>\n",
       "      <th>defender</th>\n",
       "      <th>midfielder</th>\n",
       "      <th>forward</th>\n",
       "      <th>count_tournaments</th>\n",
       "      <th>list_tournaments</th>\n",
       "      <th>player_wikipedia_link</th>\n",
       "    </tr>\n",
       "  </thead>\n",
       "  <tbody>\n",
       "    <tr>\n",
       "      <th>0</th>\n",
       "      <td>1</td>\n",
       "      <td>P-05074</td>\n",
       "      <td>A'Court</td>\n",
       "      <td>Alan</td>\n",
       "      <td>1934-09-30</td>\n",
       "      <td>0</td>\n",
       "      <td>0</td>\n",
       "      <td>0</td>\n",
       "      <td>1</td>\n",
       "      <td>1</td>\n",
       "      <td>1958</td>\n",
       "      <td>https://en.wikipedia.org/wiki/Alan_A%27Court</td>\n",
       "    </tr>\n",
       "    <tr>\n",
       "      <th>1</th>\n",
       "      <td>2</td>\n",
       "      <td>P-00942</td>\n",
       "      <td>Abadzhiev</td>\n",
       "      <td>Stefan</td>\n",
       "      <td>1934-07-03</td>\n",
       "      <td>0</td>\n",
       "      <td>0</td>\n",
       "      <td>0</td>\n",
       "      <td>1</td>\n",
       "      <td>1</td>\n",
       "      <td>1966</td>\n",
       "      <td>https://en.wikipedia.org/wiki/Stefan_Abadzhiev</td>\n",
       "    </tr>\n",
       "    <tr>\n",
       "      <th>2</th>\n",
       "      <td>3</td>\n",
       "      <td>P-03051</td>\n",
       "      <td>Abalo</td>\n",
       "      <td>Jean-Paul</td>\n",
       "      <td>1975-06-26</td>\n",
       "      <td>0</td>\n",
       "      <td>1</td>\n",
       "      <td>0</td>\n",
       "      <td>0</td>\n",
       "      <td>1</td>\n",
       "      <td>2006</td>\n",
       "      <td>https://en.wikipedia.org/wiki/Jean-Paul_Abalo</td>\n",
       "    </tr>\n",
       "    <tr>\n",
       "      <th>3</th>\n",
       "      <td>4</td>\n",
       "      <td>P-03371</td>\n",
       "      <td>Abanda</td>\n",
       "      <td>Patrice</td>\n",
       "      <td>1978-08-03</td>\n",
       "      <td>0</td>\n",
       "      <td>1</td>\n",
       "      <td>0</td>\n",
       "      <td>0</td>\n",
       "      <td>1</td>\n",
       "      <td>1998</td>\n",
       "      <td>https://en.wikipedia.org/wiki/Patrice_Abanda</td>\n",
       "    </tr>\n",
       "    <tr>\n",
       "      <th>4</th>\n",
       "      <td>5</td>\n",
       "      <td>P-04977</td>\n",
       "      <td>Abate</td>\n",
       "      <td>Ignazio</td>\n",
       "      <td>1986-11-12</td>\n",
       "      <td>0</td>\n",
       "      <td>1</td>\n",
       "      <td>0</td>\n",
       "      <td>0</td>\n",
       "      <td>1</td>\n",
       "      <td>2014</td>\n",
       "      <td>https://en.wikipedia.org/wiki/Ignazio_Abate</td>\n",
       "    </tr>\n",
       "  </tbody>\n",
       "</table>\n",
       "</div>"
      ],
      "text/plain": [
       "   key_id player_id family_name given_name  birth_date  goal_keeper  defender  \\\n",
       "0       1   P-05074     A'Court       Alan  1934-09-30            0         0   \n",
       "1       2   P-00942   Abadzhiev     Stefan  1934-07-03            0         0   \n",
       "2       3   P-03051       Abalo  Jean-Paul  1975-06-26            0         1   \n",
       "3       4   P-03371      Abanda    Patrice  1978-08-03            0         1   \n",
       "4       5   P-04977       Abate    Ignazio  1986-11-12            0         1   \n",
       "\n",
       "   midfielder  forward  count_tournaments list_tournaments  \\\n",
       "0           0        1                  1             1958   \n",
       "1           0        1                  1             1966   \n",
       "2           0        0                  1             2006   \n",
       "3           0        0                  1             1998   \n",
       "4           0        0                  1             2014   \n",
       "\n",
       "                            player_wikipedia_link  \n",
       "0    https://en.wikipedia.org/wiki/Alan_A%27Court  \n",
       "1  https://en.wikipedia.org/wiki/Stefan_Abadzhiev  \n",
       "2   https://en.wikipedia.org/wiki/Jean-Paul_Abalo  \n",
       "3    https://en.wikipedia.org/wiki/Patrice_Abanda  \n",
       "4     https://en.wikipedia.org/wiki/Ignazio_Abate  "
      ]
     },
     "execution_count": 7,
     "metadata": {},
     "output_type": "execute_result"
    }
   ],
   "source": [
    "# VIEW DATAFRAMES\n",
    "\n",
    "# playerApps_df.head()\n",
    "# player_info_df.head()\n",
    "# matches_df.head()\n",
    "# data_df.head()\n",
    "# df_wc.head()\n",
    "player_df.head()"
   ]
  },
  {
   "cell_type": "code",
   "execution_count": 8,
   "id": "df024a76",
   "metadata": {},
   "outputs": [
    {
     "name": "stdout",
     "output_type": "stream",
     "text": [
      "PLAYER_INFO_DF COLUMNS\n",
      "Index(['key_id_x', 'tournament_id', 'tournament_name', 'match_id',\n",
      "       'match_name', 'match_date', 'stage_name', 'group_name', 'team_id',\n",
      "       'team_name', 'team_code', 'home_team', 'away_team', 'player_id',\n",
      "       'family_name_x', 'given_name_x', 'shirt_number', 'position_name',\n",
      "       'position_code', 'starter', 'substitute', 'captain', 'Name', 'key_id_y',\n",
      "       'family_name_y', 'given_name_y', 'birth_date', 'goal_keeper',\n",
      "       'defender', 'midfielder', 'forward', 'count_tournaments',\n",
      "       'list_tournaments', 'player_wikipedia_link'],\n",
      "      dtype='object')\n",
      "--------------------------------------------------\n",
      "MATCHES_DF COLUMNS\n",
      "Index(['key_id', 'tournament_id', 'tournament_name', 'match_id', 'match_name',\n",
      "       'stage_name', 'group_name', 'group_stage', 'knockout_stage', 'replayed',\n",
      "       'replay', 'match_date', 'match_time', 'stadium_id', 'stadium_name',\n",
      "       'city_name', 'country_name', 'home_team_id', 'home_team_name',\n",
      "       'home_team_code', 'away_team_id', 'away_team_name', 'away_team_code',\n",
      "       'score', 'home_team_score', 'away_team_score', 'home_team_score_margin',\n",
      "       'away_team_score_margin', 'extra_time', 'penalty_shootout',\n",
      "       'score_penalties', 'home_team_score_penalties',\n",
      "       'away_team_score_penalties', 'result', 'home_team_win', 'away_team_win',\n",
      "       'draw'],\n",
      "      dtype='object')\n",
      "--------------------------------------------------\n",
      "PLAYERAPPS_DF\n",
      "Index(['key_id', 'tournament_id', 'tournament_name', 'match_id', 'match_name',\n",
      "       'match_date', 'stage_name', 'group_name', 'team_id', 'team_name',\n",
      "       'team_code', 'home_team', 'away_team', 'player_id', 'family_name',\n",
      "       'given_name', 'shirt_number', 'position_name', 'position_code',\n",
      "       'starter', 'substitute', 'captain', 'Name'],\n",
      "      dtype='object')\n"
     ]
    }
   ],
   "source": [
    "# # iterating the columns\n",
    "# for col in player_info_df.columns:\n",
    "#     print(col)\n",
    "\n",
    "print(\"PLAYER_INFO_DF COLUMNS\")\n",
    "print(player_info_df.columns)\n",
    "print(\"-\"*50)\n",
    "print(\"MATCHES_DF COLUMNS\")\n",
    "print(matches_df.columns)\n",
    "print(\"-\"*50)\n",
    "print(\"PLAYERAPPS_DF\")\n",
    "print(playerApps_df.columns)"
   ]
  },
  {
   "cell_type": "code",
   "execution_count": 9,
   "id": "663b7016",
   "metadata": {},
   "outputs": [
    {
     "ename": "NameError",
     "evalue": "name 'player_ct_country_wcMatches' is not defined",
     "output_type": "error",
     "traceback": [
      "\u001b[1;31m---------------------------------------------------------------------------\u001b[0m",
      "\u001b[1;31mNameError\u001b[0m                                 Traceback (most recent call last)",
      "\u001b[1;32m~\\AppData\\Local\\Temp/ipykernel_3520/3389058371.py\u001b[0m in \u001b[0;36m<module>\u001b[1;34m\u001b[0m\n\u001b[0;32m     12\u001b[0m \u001b[1;31m# fifa2021_playerct\u001b[0m\u001b[1;33m\u001b[0m\u001b[1;33m\u001b[0m\u001b[0m\n\u001b[0;32m     13\u001b[0m \u001b[1;33m\u001b[0m\u001b[0m\n\u001b[1;32m---> 14\u001b[1;33m \u001b[0mplayer_ct_country_wcMatches\u001b[0m\u001b[1;33m.\u001b[0m\u001b[0msort_values\u001b[0m\u001b[1;33m(\u001b[0m\u001b[1;34m\"Lifetime_WC_Matches_Bin10\"\u001b[0m\u001b[1;33m,\u001b[0m \u001b[0mascending\u001b[0m \u001b[1;33m=\u001b[0m \u001b[1;32mFalse\u001b[0m\u001b[1;33m)\u001b[0m\u001b[1;33m.\u001b[0m\u001b[0mhead\u001b[0m\u001b[1;33m(\u001b[0m\u001b[1;36m50\u001b[0m\u001b[1;33m)\u001b[0m\u001b[1;33m\u001b[0m\u001b[1;33m\u001b[0m\u001b[0m\n\u001b[0m\u001b[0;32m     15\u001b[0m \u001b[1;33m\u001b[0m\u001b[0m\n\u001b[0;32m     16\u001b[0m player_ct_country_wcMatches = player_ct_country_wcMatches.rename(columns = {\"ID_x\": \"Total FIFA 2021 Players\", \n",
      "\u001b[1;31mNameError\u001b[0m: name 'player_ct_country_wcMatches' is not defined"
     ]
    }
   ],
   "source": [
    "# df_wc.info()\n",
    "\n",
    "# THE NUMBER OF PLAYERS PER COUNTRY BY LIFETIME WORLD CUP APPEARANCE BIN\n",
    "player_ct_country_wcMatches_beta = df_wc[[\"Country\", \n",
    "                                          \"ID\", \n",
    "                                          \"Lifetime_WC_Matches_Bin\", \n",
    "                                          \"Lifetime_WC_Matches_Bin4\", \n",
    "                                          \"Lifetime_WC_Matches_Bin5\", \n",
    "                                          \"Lifetime_WC_Matches_Bin10\"]].groupby(\"Country\").count()\n",
    "\n",
    "fifa2021_playerct = df_wc[[\"Country\", \"ID\"]].groupby(\"Country\").count().sort_values(\"ID\", ascending = False)\n",
    "# fifa2021_playerct\n",
    "\n",
    "player_ct_country_wcMatches.sort_values(\"Lifetime_WC_Matches_Bin10\", ascending = False).head(50)\n",
    "\n",
    "player_ct_country_wcMatches = player_ct_country_wcMatches.rename(columns = {\"ID_x\": \"Total FIFA 2021 Players\", \n",
    "                                              \"Lifetime_WC_Matches_Bin\": \"Players w/ Any WC Apperances\",\n",
    "                                              \"Lifetime_WC_Matches_Bin4\": \"Players w/ 4+ WC Apperances\",\n",
    "                                              \"Lifetime_WC_Matches_Bin5\": \"Players w/ 5+ WC Apperances\",\n",
    "                                              \"Lifetime_WC_Matches_Bin19\": \"Players w/ 9+ WC Apperances\"})\n",
    "\n",
    "player_ct_country_wcMatches\n",
    "# player_ct_country_wcMatchesc.loc[player_ct_country_wcMatches[\"Lifetime_WC_Matches\"]>3, \"Lifetime_WC_Matches_Bin4\"]=1"
   ]
  },
  {
   "cell_type": "markdown",
   "id": "dfd34eb3",
   "metadata": {},
   "source": [
    "* Create a model to predict which features indicate a winning team."
   ]
  },
  {
   "cell_type": "code",
   "execution_count": null,
   "id": "5a7f504f",
   "metadata": {},
   "outputs": [],
   "source": [
    "# REMOVING IRRELEVANT COLUMNS\n",
    "df_model = df_wc.select_dtypes(exclude=['object'])\n",
    "df_model = df_model.drop(columns=[\"Value\", \"Wage\", \"Nation_KitNumber\", \"ID\", \"Club_KitNumber\"])\n",
    "\n",
    "# FILLNA ON TARGET COLUMNS\n",
    "df_model[\"Lifetime_WC_Matches\"] = df_model[\"Lifetime_WC_Matches\"].fillna(0)\n",
    "df_model[\"Lifetime_WC_Matches\"] = df_model[\"Lifetime_WC_Matches\"].astype(\"int64\")\n",
    "\n",
    "df_model[\"Lifetime_WC_Matches_Bin\"] = df_model[\"Lifetime_WC_Matches_Bin\"].fillna(0)\n",
    "df_model[\"Lifetime_WC_Matches_Bin\"] = df_model[\"Lifetime_WC_Matches_Bin\"].astype(\"int64\")\n",
    "\n",
    "df_model[\"Lifetime_WC_Matches_Bin4\"] = df_model[\"Lifetime_WC_Matches_Bin4\"].fillna(0)\n",
    "df_model[\"Lifetime_WC_Matches_Bin4\"] = df_model[\"Lifetime_WC_Matches_Bin4\"].astype(\"int64\")\n",
    "\n",
    "df_model[\"Lifetime_WC_Matches_Bin5\"] = df_model[\"Lifetime_WC_Matches_Bin5\"].fillna(0)\n",
    "df_model[\"Lifetime_WC_Matches_Bin5\"] = df_model[\"Lifetime_WC_Matches_Bin5\"].astype(\"int64\")\n",
    "\n",
    "df_model[\"Lifetime_WC_Matches_Bin10\"] = df_model[\"Lifetime_WC_Matches_Bin10\"].fillna(0)\n",
    "df_model[\"Lifetime_WC_Matches_Bin10\"] = df_model[\"Lifetime_WC_Matches_Bin10\"].astype(\"int64\")\n",
    "\n",
    "# df_model.describe()"
   ]
  },
  {
   "cell_type": "code",
   "execution_count": null,
   "id": "4dbffaff",
   "metadata": {},
   "outputs": [],
   "source": [
    "# DROPPING ROWS FOR PLAYERS WHO HAVE NEVER APPEARED IN THE WORLD CUP\n",
    "df_model = df_model.loc[df_model[\"Lifetime_WC_Matches_Bin\"]==1]\n",
    "# df_model.describe()"
   ]
  },
  {
   "cell_type": "code",
   "execution_count": null,
   "id": "3d640dbe",
   "metadata": {},
   "outputs": [],
   "source": [
    "# CORRELATION OF FEATURES FOR 2021 PLAYERS WHO HAVE APPEARED IN AT LEAST ONE WORLD CUP MATCH\n",
    "corrMatrix = df_model.corr()\n",
    "sn.heatmap(corrMatrix, annot = True)\n",
    "# plt.figure(figsize = (25,25))\n",
    "plt.show()"
   ]
  },
  {
   "cell_type": "code",
   "execution_count": null,
   "id": "11a74c52",
   "metadata": {},
   "outputs": [],
   "source": [
    "lifetime_appearances = df_model[\"Lifetime_WC_Matches\"]\n",
    "\n",
    "# INVESTIGATION Y\n",
    "lifetime_appearances.value_counts()\n",
    "# lifetime_appearances.mean()\n",
    "# lifetime_appearances.median()\n",
    "# lifetime_appearances.mode()"
   ]
  },
  {
   "cell_type": "markdown",
   "id": "e71fb532",
   "metadata": {},
   "source": [
    "# Player Features Modeling"
   ]
  },
  {
   "cell_type": "code",
   "execution_count": null,
   "id": "6aea5cd8",
   "metadata": {},
   "outputs": [],
   "source": [
    "# # DEFINE X AND Y FOR THE MODEL\n",
    "# # CHALLENGE IS COMPENSATING FOR THE UNBALANCED DATASET. \n",
    "\n",
    "# # ------- OPTION A ------- returns test score of 22.41% (MULTICLASS)\n",
    "# # WHERE THE TARGET IS THE NUMBER OF LIFETIME WORLD CUP MATCHES PER 2021 PLAYER\n",
    "# model_option_name = \"Multiclass - All Lifetime WC Appearances\"\n",
    "# X = df_model.drop([\"Lifetime_WC_Matches\", \"Lifetime_WC_Matches_Bin\", \n",
    "#                    \"Lifetime_WC_Matches_Bin4\", \"Lifetime_WC_Matches_Bin10\", \"Lifetime_WC_Matches_Bin5\"], axis=1)\n",
    "# y = df_model[\"Lifetime_WC_Matches\"]\n",
    "\n",
    "# ------- OPTION B ------- returns test score of 62.64%\n",
    "# WHERE THE TARGET IS IF THE PLAYER HAS HAD MORE THAN 3 WC APPERANCES (295 OF 694, 42.5%)\n",
    "model_option_name = \"If players had 4 or more Lifetime WC Apperances\"\n",
    "X = df_model.drop([\"Lifetime_WC_Matches\", \"Lifetime_WC_Matches_Bin\", \n",
    "                   \"Lifetime_WC_Matches_Bin4\", \"Lifetime_WC_Matches_Bin10\", \"Lifetime_WC_Matches_Bin5\"], axis=1)\n",
    "y = df_model[\"Lifetime_WC_Matches_Bin4\"]\n",
    "\n",
    "# # ------- OPTION B.2 ------- returns test score of 70.1%\n",
    "# # WHERE THE TARGET IS IF THE PLAYER HAS HAD MORE THAN 4 WC APPERANCES (208 OF 694, 30.0%)\n",
    "# model_option_name = \"If players had 5 or more Lifetime WC Apperances\"\n",
    "# X = df_model.drop([\"Lifetime_WC_Matches\", \"Lifetime_WC_Matches_Bin\", \n",
    "#                    \"Lifetime_WC_Matches_Bin4\", \"Lifetime_WC_Matches_Bin10\", \"Lifetime_WC_Matches_Bin5\"], axis=1)\n",
    "# y = df_model[\"Lifetime_WC_Matches_Bin5\"]\n",
    "\n",
    "# # ------- OPTION C ------- returns test score of 85.63%\n",
    "# # WHERE THE TARGET IS IF THE PLAYER HAS HAD AT LEAST 9 WC APPERANCES (67 OF 694, 9.7%)\n",
    "# model_option_name = \"If players had 9 or more Lifetime WC Apperances\"\n",
    "# X = df_model.drop([\"Lifetime_WC_Matches\", \"Lifetime_WC_Matches_Bin\", \n",
    "#                    \"Lifetime_WC_Matches_Bin4\", \"Lifetime_WC_Matches_Bin10\", \"Lifetime_WC_Matches_Bin5\"], axis=1)\n",
    "# y = df_model[\"Lifetime_WC_Matches_Bin10\"]\n",
    "\n",
    "# count\n",
    "y.value_counts()"
   ]
  },
  {
   "cell_type": "code",
   "execution_count": null,
   "id": "1b1c1893",
   "metadata": {},
   "outputs": [],
   "source": [
    "# SPLIT AND TRAIN MODEL\n",
    "X_train, X_test, y_train, y_test = train_test_split(X, y, random_state=13)\n",
    "scaler = StandardScaler().fit(X_train)\n",
    "X_train_scaled = scaler.transform(X_train)\n",
    "X_test_scaled = scaler.transform(X_test)\n",
    "\n",
    "print(f\"Target used: {model_option_name}\")\n",
    "print(\"-\"*50)\n",
    "print(f\"Maximum X_train_scaled value: {X_train_scaled.max().round(4)}\")\n",
    "print(f\"Minimum X_train_scaled value: {X_train_scaled.min().round(4)}\")\n",
    "print(\"-\"*50)\n",
    "print(f\"Maximum X_test_scaled value: {X_test_scaled.max().round(4)}\")\n",
    "print(f\"Minimum X_test_scaled value: {X_test_scaled.min().round(4)}\")\n"
   ]
  },
  {
   "cell_type": "code",
   "execution_count": null,
   "id": "7973adeb",
   "metadata": {},
   "outputs": [],
   "source": [
    "# RANDOM FOREST CLASSIFIER MODEL\n",
    "clf = RandomForestClassifier(random_state=37, n_estimators=1000).fit(X_train_scaled, y_train)\n",
    "\n",
    "print(f\"Target used: {model_option_name}\")\n",
    "print(\"-\"*50)\n",
    "print(f'Training Score: {clf.score(X_train_scaled, y_train).round(4)}')\n",
    "print(f'Testing Score: {clf.score(X_test_scaled, y_test).round(4)}')\n"
   ]
  },
  {
   "cell_type": "code",
   "execution_count": null,
   "id": "56a8e802",
   "metadata": {},
   "outputs": [],
   "source": [
    "# IDENTIFYING FEATURE IMPORTANCE\n",
    "features = clf.feature_importances_.round(4)\n",
    "feature_names = list(X_train.columns.values)"
   ]
  },
  {
   "cell_type": "code",
   "execution_count": null,
   "id": "5534bad6",
   "metadata": {},
   "outputs": [],
   "source": [
    "# PLOTTING THE FEATURE IMPORTANCE ANALYSIS\n",
    "\n",
    "# MAKING A DATAFRAME OF THE FEATURES ANALYSIS OUTPUT\n",
    "features_list = pd.Series(features)\n",
    "featuresnames_list = pd.Series(feature_names)\n",
    "features_df = pd.concat([featuresnames_list, features_list], axis = 1)\n",
    "features_df = features_df.sort_values(by=1, ascending = True)\n",
    "# features_df.rename(columns = {\"0: Feature Name\", \"1: Importance Value\"})\n",
    "\n",
    "plt.figure(figsize = (25,25))\n",
    "plt.title(f\"Feature Importance: {model_option_name}\", fontsize=25)\n",
    "plt.xlabel(\"Importance\", fontsize=22)\n",
    "plt.xticks(fontsize=25)\n",
    "\n",
    "plt.barh(range(len(features_df[1])), features_df[1], color=\"maroon\", edgecolor=\"darkred\")\n",
    "plt.yticks(range(len(features_df[1])), features_df[0], fontsize = 20)\n",
    "plt.show()"
   ]
  },
  {
   "cell_type": "code",
   "execution_count": null,
   "id": "c8b26782",
   "metadata": {},
   "outputs": [],
   "source": [
    "\n",
    "# NUMBER OF TOP FEATURES TO INCLUDE\n",
    "n = 5\n",
    "\n",
    "# DATAFRAME FOR TOP FEATURES\n",
    "top_features_df = features_df.sort_values(by=1, ascending = False).head(n)\n",
    "# top_features_df\n",
    "\n",
    "# CREATE LIST OF TOP N MOST IMPORTANT FEATURES\n",
    "top_features_list = top_features_df[0].to_list()\n"
   ]
  },
  {
   "cell_type": "code",
   "execution_count": null,
   "id": "28fdb0d1",
   "metadata": {},
   "outputs": [],
   "source": [
    "print(f\"Target used: {model_option_name}\")\n",
    "print(\"-\"*50)\n",
    "print(f\"Average Importance of All Features: {features.mean().round(4)}\")\n",
    "print(f\"Maximum Importance of All Features: {features.max().round(4)}\")\n",
    "print(f\"Minimum Importance of All Features: {features.min().round(4)}\")\n",
    "print(\"-\"*50)\n",
    "\n",
    "print(f\"The Top {len(features_df.sort_values(by=1, ascending = False).head(n))} \\\n",
    "Most Important Features Impacting a Player's World Cup Apperance:\")\n",
    "print(f\"{top_features_list}\")"
   ]
  },
  {
   "cell_type": "code",
   "execution_count": null,
   "id": "363f991a",
   "metadata": {},
   "outputs": [],
   "source": [
    "# y_train.value_counts()\n",
    "# y_test.value_counts()\n",
    "\n",
    "# othe roptions: smote - synthetic data to up/down sample; precision recall metrics instead of test/train score"
   ]
  },
  {
   "cell_type": "code",
   "execution_count": null,
   "id": "9dae0d62",
   "metadata": {},
   "outputs": [],
   "source": [
    "# # SHAP PLOT\n",
    "\n",
    "# # X, y = shap.datasets.adult()\n",
    "# model = xgboost.XGBClassifier().fit(X, y)\n",
    "# explainer = shap.TreeExplainer(model, X)\n",
    "# shap_values = explainer(X)\n",
    "# feature_names = [\n",
    "#     a + \": \" + str(b) for a,b in zip(X.columns, np.abs(shap_values.values).mean(0).round(2))\n",
    "# ]\n",
    "\n",
    "# shap.summary_plot(shap_values, X, max_display=X.shape[1], \n",
    "#                   feature_names=feature_names)\n",
    "\n",
    "# # expecting that y is label encoded\n",
    "# # change y to 1 or 0 , that the player appeared in the WC; if y = 0 then 0 else y = 1\n",
    "# # alternative: multiclass classification; \n",
    "# # or could do regression (lin or ranfor) to predict continuous number"
   ]
  },
  {
   "cell_type": "code",
   "execution_count": null,
   "id": "6d0e201c",
   "metadata": {},
   "outputs": [],
   "source": [
    "# clf = RandomForestClassifier(random_state=1, n_estimators=500).fit(X_train_scaled, y_train)\n",
    "# print(f'Training Score: {clf.score(X_train_scaled, y_train)}')\n",
    "# print(f'Testing Score: {clf.score(X_test_scaled, y_test)}')"
   ]
  },
  {
   "cell_type": "code",
   "execution_count": null,
   "id": "df886ce3",
   "metadata": {},
   "outputs": [],
   "source": [
    "# feature_importances = clf.feature_importances_\n",
    "# features = sorted(zip(X.columns, clf.feature_importances_), key = lambda x: x[1])\n",
    "# cols = [f[0] for f in features]\n",
    "# width = [f[1] for f in features]\n",
    "\n",
    "# fig, ax = plt.subplots()\n",
    "\n",
    "# fig.set_size_inches(10)\n",
    "# plt.margins(y=0.001)\n",
    "\n",
    "# ax.barh(y=cols, width=width)\n",
    "\n",
    "# plt.show()"
   ]
  },
  {
   "cell_type": "markdown",
   "id": "2108ef32",
   "metadata": {},
   "source": [
    "# create many features based on statistics per each country"
   ]
  },
  {
   "cell_type": "code",
   "execution_count": null,
   "id": "2260644b",
   "metadata": {},
   "outputs": [],
   "source": [
    "#only keep countries that are in the 2022 World Cup\n",
    "data_df = data_df[(data_df['Country'].isin(teams_2022))]\n",
    "data_df"
   ]
  },
  {
   "cell_type": "code",
   "execution_count": null,
   "id": "2e76228c",
   "metadata": {},
   "outputs": [],
   "source": [
    "data_df = data_df.drop(columns = 'ID')"
   ]
  },
  {
   "cell_type": "code",
   "execution_count": null,
   "id": "a4f41d39",
   "metadata": {},
   "outputs": [],
   "source": [
    "data_df.columns\n",
    "#which attribute features do we want out of the following column names?"
   ]
  },
  {
   "cell_type": "code",
   "execution_count": null,
   "id": "fe9d67e3",
   "metadata": {},
   "outputs": [],
   "source": [
    "data_df['Nation_Position'].unique()"
   ]
  },
  {
   "cell_type": "code",
   "execution_count": null,
   "id": "1ac384a2",
   "metadata": {
    "scrolled": true
   },
   "outputs": [],
   "source": [
    "# averaging stats of each player to get an overall 'score' for each team\n",
    "average_for_teams = data_df.groupby([\"Country\"]).mean()\n",
    "average_for_teams = average_for_teams.reset_index()\n",
    "average_for_teams"
   ]
  },
  {
   "cell_type": "code",
   "execution_count": null,
   "id": "014459ef",
   "metadata": {},
   "outputs": [],
   "source": [
    "# median stats of each player to get an overall 'score' for each team\n",
    "median_for_teams = data_df.groupby([\"Country\"]).median()\n",
    "median_for_teams = median_for_teams.reset_index()\n",
    "len(median_for_teams)"
   ]
  },
  {
   "cell_type": "code",
   "execution_count": null,
   "id": "568d181e",
   "metadata": {},
   "outputs": [],
   "source": [
    "# median stats of each player to get an overall 'score' for each team\n",
    "max_for_teams = data_df.groupby([\"Country\"]).max()\n",
    "max_for_teams = max_for_teams.reset_index()\n",
    "len(max_for_teams)"
   ]
  },
  {
   "cell_type": "code",
   "execution_count": null,
   "id": "0c1a37be",
   "metadata": {},
   "outputs": [],
   "source": [
    "# min stats of each player to get an overall 'score' for each team\n",
    "min_for_teams = data_df.groupby([\"Country\"]).min()\n",
    "min_for_teams = min_for_teams.reset_index()\n",
    "len(min_for_teams)"
   ]
  },
  {
   "cell_type": "code",
   "execution_count": null,
   "id": "1eb0a963",
   "metadata": {},
   "outputs": [],
   "source": [
    "std_for_teams = data_df.groupby([\"Country\"]).std()\n",
    "std_for_teams = std_for_teams.reset_index()\n",
    "len(std_for_teams)"
   ]
  },
  {
   "cell_type": "markdown",
   "id": "07547384",
   "metadata": {},
   "source": [
    "#Features showing only certain positions: Goalie, for example"
   ]
  },
  {
   "cell_type": "code",
   "execution_count": null,
   "id": "bca45034",
   "metadata": {},
   "outputs": [],
   "source": [
    "#only goalies\n",
    "goalies = data_df.loc[data_df['Nation_Position'] == 'GK']\n",
    "len(goalies)"
   ]
  },
  {
   "cell_type": "code",
   "execution_count": null,
   "id": "81990bcd",
   "metadata": {},
   "outputs": [],
   "source": [
    "#we only have 20 known goalies available\n",
    "max_for_goalies = goalies.groupby(\"Country\").max()\n",
    "max_for_goalies = max_for_goalies.reset_index()\n",
    "max_for_goalies"
   ]
  },
  {
   "cell_type": "code",
   "execution_count": null,
   "id": "628e4c8f",
   "metadata": {},
   "outputs": [],
   "source": [
    "data_df['PreferredPositions'].unique()"
   ]
  },
  {
   "cell_type": "code",
   "execution_count": null,
   "id": "aa43b70a",
   "metadata": {},
   "outputs": [],
   "source": [
    "#only goalies\n",
    "goalies2 = data_df.loc[data_df['PreferredPositions'] == 'GK']\n",
    "len(goalies2)"
   ]
  },
  {
   "cell_type": "code",
   "execution_count": null,
   "id": "8e59a201",
   "metadata": {},
   "outputs": [],
   "source": [
    "max_for_goalies2 = goalies2.groupby(\"Country\").max()\n",
    "max_for_goalies2 = max_for_goalies2.reset_index()\n",
    "max_for_goalies2"
   ]
  },
  {
   "cell_type": "markdown",
   "id": "d42b6351",
   "metadata": {},
   "source": [
    "# Dataset does not identify the position each player will play in the world cup yet. However, we can look at preferred position to get a clue."
   ]
  },
  {
   "cell_type": "code",
   "execution_count": null,
   "id": "6441b8d8",
   "metadata": {},
   "outputs": [],
   "source": [
    "data_df['Nation_Position'].value_counts()\n",
    "# data_df['Nation_Position'].count()"
   ]
  },
  {
   "cell_type": "markdown",
   "id": "3f2e741e",
   "metadata": {},
   "source": [
    "# SQL Database Connection"
   ]
  },
  {
   "cell_type": "code",
   "execution_count": null,
   "id": "3f2014db",
   "metadata": {},
   "outputs": [],
   "source": [
    "# Connect to local database\n",
    "\n",
    "# protocol = 'postgresql'\n",
    "# username = 'postgres'\n",
    "# password = 'admin'\n",
    "# host = 'localhost'\n",
    "# port = 5432\n",
    "# database_name = 'players_db'\n",
    "# rds_connection_string = f'{protocol}://{username}:{password}@{host}:{port}/{database_name}'\n",
    "# engine = create_engine(rds_connection_string)\n",
    "# rds_connection_string"
   ]
  },
  {
   "cell_type": "code",
   "execution_count": null,
   "id": "4bd17154",
   "metadata": {},
   "outputs": [],
   "source": [
    "# Checking Tables Names in PgAdmin\n",
    "\n",
    "# engine.table_names()"
   ]
  },
  {
   "cell_type": "code",
   "execution_count": null,
   "id": "876b80d9",
   "metadata": {},
   "outputs": [],
   "source": [
    "# player_info_df.to_sql(name='player_info', con=engine, if_exists='replace', index=False)"
   ]
  },
  {
   "cell_type": "code",
   "execution_count": null,
   "id": "be3d4a31",
   "metadata": {},
   "outputs": [],
   "source": [
    "# matches_df.to_sql(name='matches', con=engine, if_exists='replace', index=False)"
   ]
  },
  {
   "cell_type": "code",
   "execution_count": null,
   "id": "a4a3a462",
   "metadata": {},
   "outputs": [],
   "source": [
    "# averages_for_teams.to_sql(name='team_averages', con=engine, if_exists='replace', index=False)"
   ]
  },
  {
   "cell_type": "code",
   "execution_count": null,
   "id": "847df605",
   "metadata": {},
   "outputs": [],
   "source": []
  }
 ],
 "metadata": {
  "kernelspec": {
   "display_name": "Python 3 (ipykernel)",
   "language": "python",
   "name": "python3"
  },
  "language_info": {
   "codemirror_mode": {
    "name": "ipython",
    "version": 3
   },
   "file_extension": ".py",
   "mimetype": "text/x-python",
   "name": "python",
   "nbconvert_exporter": "python",
   "pygments_lexer": "ipython3",
   "version": "3.9.7"
  },
  "vscode": {
   "interpreter": {
    "hash": "81cec412fa77f1dfec8d6a3e018d1a648501ffd97b0f98954fa2914706acbe5b"
   }
  }
 },
 "nbformat": 4,
 "nbformat_minor": 5
}
