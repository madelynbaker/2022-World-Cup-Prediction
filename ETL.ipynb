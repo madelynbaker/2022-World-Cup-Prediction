{
 "cells": [
  {
   "cell_type": "code",
   "execution_count": 46,
   "id": "72b3d482",
   "metadata": {},
   "outputs": [
    {
     "name": "stdout",
     "output_type": "stream",
     "text": [
      "Requirement already satisfied: xgboost in c:\\programdata\\anaconda3\\lib\\site-packages (1.6.2)\n",
      "Requirement already satisfied: scipy in c:\\programdata\\anaconda3\\lib\\site-packages (from xgboost) (1.7.1)\n",
      "Requirement already satisfied: numpy in c:\\programdata\\anaconda3\\lib\\site-packages (from xgboost) (1.20.3)\n",
      "Collecting shap\n",
      "  Downloading shap-0.41.0-cp39-cp39-win_amd64.whl (435 kB)\n",
      "Collecting slicer==0.0.7\n",
      "  Downloading slicer-0.0.7-py3-none-any.whl (14 kB)\n",
      "Requirement already satisfied: tqdm>4.25.0 in c:\\programdata\\anaconda3\\lib\\site-packages (from shap) (4.62.3)\n",
      "Requirement already satisfied: numba in c:\\programdata\\anaconda3\\lib\\site-packages (from shap) (0.54.1)\n",
      "Requirement already satisfied: scipy in c:\\programdata\\anaconda3\\lib\\site-packages (from shap) (1.7.1)\n",
      "Requirement already satisfied: packaging>20.9 in c:\\programdata\\anaconda3\\lib\\site-packages (from shap) (21.0)\n",
      "Requirement already satisfied: scikit-learn in c:\\programdata\\anaconda3\\lib\\site-packages (from shap) (0.24.2)\n",
      "Requirement already satisfied: pandas in c:\\programdata\\anaconda3\\lib\\site-packages (from shap) (1.3.4)\n",
      "Requirement already satisfied: cloudpickle in c:\\programdata\\anaconda3\\lib\\site-packages (from shap) (2.0.0)\n",
      "Requirement already satisfied: numpy in c:\\programdata\\anaconda3\\lib\\site-packages (from shap) (1.20.3)\n",
      "Requirement already satisfied: pyparsing>=2.0.2 in c:\\programdata\\anaconda3\\lib\\site-packages (from packaging>20.9->shap) (3.0.4)\n",
      "Requirement already satisfied: colorama in c:\\programdata\\anaconda3\\lib\\site-packages (from tqdm>4.25.0->shap) (0.4.4)\n",
      "Requirement already satisfied: llvmlite<0.38,>=0.37.0rc1 in c:\\programdata\\anaconda3\\lib\\site-packages (from numba->shap) (0.37.0)\n",
      "Requirement already satisfied: setuptools in c:\\programdata\\anaconda3\\lib\\site-packages (from numba->shap) (58.0.4)\n",
      "Requirement already satisfied: pytz>=2017.3 in c:\\programdata\\anaconda3\\lib\\site-packages (from pandas->shap) (2021.3)\n",
      "Requirement already satisfied: python-dateutil>=2.7.3 in c:\\programdata\\anaconda3\\lib\\site-packages (from pandas->shap) (2.8.2)\n",
      "Requirement already satisfied: six>=1.5 in c:\\programdata\\anaconda3\\lib\\site-packages (from python-dateutil>=2.7.3->pandas->shap) (1.16.0)\n",
      "Requirement already satisfied: threadpoolctl>=2.0.0 in c:\\programdata\\anaconda3\\lib\\site-packages (from scikit-learn->shap) (2.2.0)\n",
      "Requirement already satisfied: joblib>=0.11 in c:\\programdata\\anaconda3\\lib\\site-packages (from scikit-learn->shap) (1.1.0)\n",
      "Installing collected packages: slicer, shap\n",
      "Successfully installed shap-0.41.0 slicer-0.0.7\n"
     ]
    }
   ],
   "source": [
    "# run dependencies\n",
    "!pip install xgboost\n",
    "!pip install shap\n",
    "\n",
    "import pandas as pd\n",
    "import numpy as np\n",
    "from sqlalchemy import create_engine\n",
    "\n",
    "from sklearn.model_selection import train_test_split\n",
    "from sklearn.preprocessing import StandardScaler\n",
    "from sklearn.ensemble import RandomForestClassifier\n",
    "\n",
    "import xgboost\n",
    "import shap\n",
    "\n",
    "import matplotlib.pyplot as plt"
   ]
  },
  {
   "cell_type": "code",
   "execution_count": 69,
   "id": "e6cb08d5",
   "metadata": {},
   "outputs": [],
   "source": [
    "# CSV FILES\n",
    "player_appearances_csv = \"Data/player_appearances.csv\"\n",
    "players_csv = \"Data/players.csv\"\n",
    "matches_csv = \"Data/matches.csv\"\n",
    "data2021_csv = \"Data/Players_EAFIFA/2021.csv\""
   ]
  },
  {
   "cell_type": "code",
   "execution_count": 70,
   "id": "030bf155",
   "metadata": {},
   "outputs": [],
   "source": [
    "# READ CSV FILES\n",
    "playerApps_df = pd.read_csv(player_appearances_csv)\n",
    "player_df = pd.read_csv(players_csv)\n",
    "data_df = pd.read_csv(data2021_csv)\n",
    "matches_df = pd.read_csv(matches_csv)\n",
    "\n",
    "# CLEAN UP \n",
    "playerApps_df[\"Name\"] = playerApps_df[\"given_name\"] + \" \" + playerApps_df[\"family_name\"]\n",
    "\n",
    "dict = {'Overal': 'Overall',\n",
    "        'Natinality': 'Country'}\n",
    "data_df.rename(columns=dict,inplace = True)\n",
    "\n",
    "\n",
    "pd.set_option('display.max_columns', None)"
   ]
  },
  {
   "cell_type": "code",
   "execution_count": 71,
   "id": "a304d378",
   "metadata": {},
   "outputs": [],
   "source": [
    "# CREATE GROUPED DATAFRAME SHOWING LIFETIME NUMBER OF WORLD CUP MATCHES \n",
    "playersApps_df_grp = playerApps_df[[\"match_id\", \"player_id\", \"Name\"]].\\\n",
    "                            groupby([\"player_id\", \"Name\"]).nunique(\"match_id\")\n",
    "# playersApps_df_grp"
   ]
  },
  {
   "cell_type": "code",
   "execution_count": 72,
   "id": "74e272f1",
   "metadata": {},
   "outputs": [],
   "source": [
    "\n",
    "# IDENTIFYING 2022 WORLD CUP QUALIFYING TEAMS\n",
    "teams_2022 = ['Qatar', 'Netherlands', 'Senegal', 'Ecuador', \n",
    "            'England', 'United States', 'Wales', 'Iran', \n",
    "            'Argentina', 'Poland', 'Mexico', 'Saudi Arabia', \n",
    "            'France', 'Denmark', 'Tunisia', 'Australia', \n",
    "            'Germany', 'Spain', 'Japan', 'Costa Rica', \n",
    "            'Belgium', 'Croatia', 'Canada', 'Morocco', \n",
    "            'Brazil', 'Switzerland', 'Serbia', 'Cameroon', \n",
    "            'Portugal', 'Uruguay', 'Ghana', 'Korea Republic']"
   ]
  },
  {
   "cell_type": "code",
   "execution_count": 93,
   "id": "bb056bb8",
   "metadata": {},
   "outputs": [
    {
     "name": "stdout",
     "output_type": "stream",
     "text": [
      "<class 'pandas.core.frame.DataFrame'>\n",
      "Int64Index: 19120 entries, 0 to 19119\n",
      "Data columns (total 62 columns):\n",
      " #   Column                   Non-Null Count  Dtype  \n",
      "---  ------                   --------------  -----  \n",
      " 0   ID                       19120 non-null  int64  \n",
      " 1   Name                     19120 non-null  object \n",
      " 2   Country                  19120 non-null  object \n",
      " 3   Overall                  19120 non-null  int64  \n",
      " 4   Potential                19120 non-null  int64  \n",
      " 5   Height                   19120 non-null  int64  \n",
      " 6   Weight                   19120 non-null  int64  \n",
      " 7   PreferredFoot            19120 non-null  object \n",
      " 8   BirthDate                19120 non-null  object \n",
      " 9   Age                      19120 non-null  int64  \n",
      " 10  PreferredPositions       19120 non-null  object \n",
      " 11  PlayerWorkRate           19120 non-null  object \n",
      " 12  WeakFoot                 19120 non-null  int64  \n",
      " 13  SkillMoves               19120 non-null  int64  \n",
      " 14  Value                    18885 non-null  float64\n",
      " 15  Wage                     18885 non-null  float64\n",
      " 16  Nation                   1127 non-null   object \n",
      " 17  Nation_Position          1127 non-null   object \n",
      " 18  Nation_KitNumber         1127 non-null   float64\n",
      " 19  Club                     19120 non-null  object \n",
      " 20  Club_Position            19120 non-null  object \n",
      " 21  Club_KitNumber           19120 non-null  int64  \n",
      " 22  Club_JoinedClub          18023 non-null  object \n",
      " 23  Club_ContractLength      19120 non-null  object \n",
      " 24  BallControl              19120 non-null  int64  \n",
      " 25  Dribbling                19120 non-null  int64  \n",
      " 26  Marking                  19120 non-null  int64  \n",
      " 27  SlideTackle              19120 non-null  int64  \n",
      " 28  StandTackle              19120 non-null  int64  \n",
      " 29  Aggression               19120 non-null  int64  \n",
      " 30  Reactions                19120 non-null  int64  \n",
      " 31  AttPosition              19120 non-null  int64  \n",
      " 32  Interceptions            19120 non-null  int64  \n",
      " 33  Vision                   19120 non-null  int64  \n",
      " 34  Composure                19120 non-null  int64  \n",
      " 35  Crossing                 19120 non-null  int64  \n",
      " 36  ShortPass                19120 non-null  int64  \n",
      " 37  LongPass                 19120 non-null  int64  \n",
      " 38  Acceleration             19120 non-null  int64  \n",
      " 39  Stamina                  19120 non-null  int64  \n",
      " 40  Strength                 19120 non-null  int64  \n",
      " 41  Balance                  19120 non-null  int64  \n",
      " 42  SprintSpeed              19120 non-null  int64  \n",
      " 43  Agility                  19120 non-null  int64  \n",
      " 44  Jumping                  19120 non-null  int64  \n",
      " 45  Heading                  19120 non-null  int64  \n",
      " 46  ShotPower                19120 non-null  int64  \n",
      " 47  Finishing                19120 non-null  int64  \n",
      " 48  LongShots                19120 non-null  int64  \n",
      " 49  Curve                    19120 non-null  int64  \n",
      " 50  FKAcc                    19120 non-null  int64  \n",
      " 51  Penalties                19120 non-null  int64  \n",
      " 52  Volleys                  19120 non-null  int64  \n",
      " 53  GKPositioning            19120 non-null  int64  \n",
      " 54  GKDiving                 19120 non-null  int64  \n",
      " 55  GKHandling               19120 non-null  int64  \n",
      " 56  GKKicking                19120 non-null  int64  \n",
      " 57  GKReflexes               19120 non-null  int64  \n",
      " 58  Traits                   8704 non-null   object \n",
      " 59  Specialities             1394 non-null   object \n",
      " 60  Lifetime_WC_Matches      694 non-null    float64\n",
      " 61  Lifetime_WC_Matches_Bin  694 non-null    float64\n",
      "dtypes: float64(5), int64(43), object(14)\n",
      "memory usage: 9.2+ MB\n"
     ]
    }
   ],
   "source": [
    "# MERGING DATAFRAMES\n",
    "\n",
    "# MERGE PLAYER APPEARNACES WITH PLAYER DATA TO GET ADDITIONAL DETAIL PER PLAYER\n",
    "player_info_df = pd.merge(playerApps_df, player_df, on = \"player_id\", how= \"inner\")\n",
    "\n",
    "# MERGE NUMBER LIFETIME NUMBER OF WORLD CUP MATCHES ONTO PLAYER RECORDS FROM FIFA 2021 PLAYER SET\n",
    "df_wc = pd.merge(data_df,playersApps_df_grp, on=\"Name\", how=\"left\")\n",
    "df_wc = df_wc.rename(columns={\"match_id\":\"Lifetime_WC_Matches\"})\n",
    "\n",
    "df_wc.loc[df_wc[\"Lifetime_WC_Matches\"].notnull(), \"Lifetime_WC_Matches_Bin\"]=1\n",
    "\n",
    "df_wc.info()"
   ]
  },
  {
   "cell_type": "code",
   "execution_count": 94,
   "id": "e5cd608f",
   "metadata": {
    "scrolled": true
   },
   "outputs": [
    {
     "data": {
      "text/html": [
       "<div>\n",
       "<style scoped>\n",
       "    .dataframe tbody tr th:only-of-type {\n",
       "        vertical-align: middle;\n",
       "    }\n",
       "\n",
       "    .dataframe tbody tr th {\n",
       "        vertical-align: top;\n",
       "    }\n",
       "\n",
       "    .dataframe thead th {\n",
       "        text-align: right;\n",
       "    }\n",
       "</style>\n",
       "<table border=\"1\" class=\"dataframe\">\n",
       "  <thead>\n",
       "    <tr style=\"text-align: right;\">\n",
       "      <th></th>\n",
       "      <th>key_id</th>\n",
       "      <th>player_id</th>\n",
       "      <th>family_name</th>\n",
       "      <th>given_name</th>\n",
       "      <th>birth_date</th>\n",
       "      <th>goal_keeper</th>\n",
       "      <th>defender</th>\n",
       "      <th>midfielder</th>\n",
       "      <th>forward</th>\n",
       "      <th>count_tournaments</th>\n",
       "      <th>list_tournaments</th>\n",
       "      <th>player_wikipedia_link</th>\n",
       "    </tr>\n",
       "  </thead>\n",
       "  <tbody>\n",
       "    <tr>\n",
       "      <th>0</th>\n",
       "      <td>1</td>\n",
       "      <td>P-05074</td>\n",
       "      <td>A'Court</td>\n",
       "      <td>Alan</td>\n",
       "      <td>1934-09-30</td>\n",
       "      <td>0</td>\n",
       "      <td>0</td>\n",
       "      <td>0</td>\n",
       "      <td>1</td>\n",
       "      <td>1</td>\n",
       "      <td>1958</td>\n",
       "      <td>https://en.wikipedia.org/wiki/Alan_A%27Court</td>\n",
       "    </tr>\n",
       "    <tr>\n",
       "      <th>1</th>\n",
       "      <td>2</td>\n",
       "      <td>P-00942</td>\n",
       "      <td>Abadzhiev</td>\n",
       "      <td>Stefan</td>\n",
       "      <td>1934-07-03</td>\n",
       "      <td>0</td>\n",
       "      <td>0</td>\n",
       "      <td>0</td>\n",
       "      <td>1</td>\n",
       "      <td>1</td>\n",
       "      <td>1966</td>\n",
       "      <td>https://en.wikipedia.org/wiki/Stefan_Abadzhiev</td>\n",
       "    </tr>\n",
       "    <tr>\n",
       "      <th>2</th>\n",
       "      <td>3</td>\n",
       "      <td>P-03051</td>\n",
       "      <td>Abalo</td>\n",
       "      <td>Jean-Paul</td>\n",
       "      <td>1975-06-26</td>\n",
       "      <td>0</td>\n",
       "      <td>1</td>\n",
       "      <td>0</td>\n",
       "      <td>0</td>\n",
       "      <td>1</td>\n",
       "      <td>2006</td>\n",
       "      <td>https://en.wikipedia.org/wiki/Jean-Paul_Abalo</td>\n",
       "    </tr>\n",
       "    <tr>\n",
       "      <th>3</th>\n",
       "      <td>4</td>\n",
       "      <td>P-03371</td>\n",
       "      <td>Abanda</td>\n",
       "      <td>Patrice</td>\n",
       "      <td>1978-08-03</td>\n",
       "      <td>0</td>\n",
       "      <td>1</td>\n",
       "      <td>0</td>\n",
       "      <td>0</td>\n",
       "      <td>1</td>\n",
       "      <td>1998</td>\n",
       "      <td>https://en.wikipedia.org/wiki/Patrice_Abanda</td>\n",
       "    </tr>\n",
       "    <tr>\n",
       "      <th>4</th>\n",
       "      <td>5</td>\n",
       "      <td>P-04977</td>\n",
       "      <td>Abate</td>\n",
       "      <td>Ignazio</td>\n",
       "      <td>1986-11-12</td>\n",
       "      <td>0</td>\n",
       "      <td>1</td>\n",
       "      <td>0</td>\n",
       "      <td>0</td>\n",
       "      <td>1</td>\n",
       "      <td>2014</td>\n",
       "      <td>https://en.wikipedia.org/wiki/Ignazio_Abate</td>\n",
       "    </tr>\n",
       "  </tbody>\n",
       "</table>\n",
       "</div>"
      ],
      "text/plain": [
       "   key_id player_id family_name given_name  birth_date  goal_keeper  defender  \\\n",
       "0       1   P-05074     A'Court       Alan  1934-09-30            0         0   \n",
       "1       2   P-00942   Abadzhiev     Stefan  1934-07-03            0         0   \n",
       "2       3   P-03051       Abalo  Jean-Paul  1975-06-26            0         1   \n",
       "3       4   P-03371      Abanda    Patrice  1978-08-03            0         1   \n",
       "4       5   P-04977       Abate    Ignazio  1986-11-12            0         1   \n",
       "\n",
       "   midfielder  forward  count_tournaments list_tournaments  \\\n",
       "0           0        1                  1             1958   \n",
       "1           0        1                  1             1966   \n",
       "2           0        0                  1             2006   \n",
       "3           0        0                  1             1998   \n",
       "4           0        0                  1             2014   \n",
       "\n",
       "                            player_wikipedia_link  \n",
       "0    https://en.wikipedia.org/wiki/Alan_A%27Court  \n",
       "1  https://en.wikipedia.org/wiki/Stefan_Abadzhiev  \n",
       "2   https://en.wikipedia.org/wiki/Jean-Paul_Abalo  \n",
       "3    https://en.wikipedia.org/wiki/Patrice_Abanda  \n",
       "4     https://en.wikipedia.org/wiki/Ignazio_Abate  "
      ]
     },
     "execution_count": 94,
     "metadata": {},
     "output_type": "execute_result"
    }
   ],
   "source": [
    "# VIEW DATAFRAMES\n",
    "\n",
    "# playerApps_df.head()\n",
    "# player_info_df.head()\n",
    "# matches_df.head()\n",
    "# data_df.head()\n",
    "# df_wc.head()\n",
    "player_df.head()"
   ]
  },
  {
   "cell_type": "code",
   "execution_count": 95,
   "id": "df024a76",
   "metadata": {},
   "outputs": [
    {
     "name": "stdout",
     "output_type": "stream",
     "text": [
      "PLAYER_INFO_DF COLUMNS\n",
      "Index(['key_id_x', 'tournament_id', 'tournament_name', 'match_id',\n",
      "       'match_name', 'match_date', 'stage_name', 'group_name', 'team_id',\n",
      "       'team_name', 'team_code', 'home_team', 'away_team', 'player_id',\n",
      "       'family_name_x', 'given_name_x', 'shirt_number', 'position_name',\n",
      "       'position_code', 'starter', 'substitute', 'captain', 'Name', 'key_id_y',\n",
      "       'family_name_y', 'given_name_y', 'birth_date', 'goal_keeper',\n",
      "       'defender', 'midfielder', 'forward', 'count_tournaments',\n",
      "       'list_tournaments', 'player_wikipedia_link'],\n",
      "      dtype='object')\n",
      "--------------------------------------------------\n",
      "MATCHES_DF COLUMNS\n",
      "Index(['key_id', 'tournament_id', 'tournament_name', 'match_id', 'match_name',\n",
      "       'stage_name', 'group_name', 'group_stage', 'knockout_stage', 'replayed',\n",
      "       'replay', 'match_date', 'match_time', 'stadium_id', 'stadium_name',\n",
      "       'city_name', 'country_name', 'home_team_id', 'home_team_name',\n",
      "       'home_team_code', 'away_team_id', 'away_team_name', 'away_team_code',\n",
      "       'score', 'home_team_score', 'away_team_score', 'home_team_score_margin',\n",
      "       'away_team_score_margin', 'extra_time', 'penalty_shootout',\n",
      "       'score_penalties', 'home_team_score_penalties',\n",
      "       'away_team_score_penalties', 'result', 'home_team_win', 'away_team_win',\n",
      "       'draw'],\n",
      "      dtype='object')\n",
      "--------------------------------------------------\n",
      "PLAYERAPPS_DF\n",
      "Index(['key_id', 'tournament_id', 'tournament_name', 'match_id', 'match_name',\n",
      "       'match_date', 'stage_name', 'group_name', 'team_id', 'team_name',\n",
      "       'team_code', 'home_team', 'away_team', 'player_id', 'family_name',\n",
      "       'given_name', 'shirt_number', 'position_name', 'position_code',\n",
      "       'starter', 'substitute', 'captain', 'Name'],\n",
      "      dtype='object')\n"
     ]
    }
   ],
   "source": [
    "# # iterating the columns\n",
    "# for col in player_info_df.columns:\n",
    "#     print(col)\n",
    "\n",
    "print(\"PLAYER_INFO_DF COLUMNS\")\n",
    "print(player_info_df.columns)\n",
    "print(\"-\"*50)\n",
    "print(\"MATCHES_DF COLUMNS\")\n",
    "print(matches_df.columns)\n",
    "print(\"-\"*50)\n",
    "print(\"PLAYERAPPS_DF\")\n",
    "print(playerApps_df.columns)"
   ]
  },
  {
   "cell_type": "code",
   "execution_count": 96,
   "id": "663b7016",
   "metadata": {},
   "outputs": [],
   "source": [
    "# df_wc.info()"
   ]
  },
  {
   "cell_type": "markdown",
   "id": "dfd34eb3",
   "metadata": {},
   "source": [
    "* Create a model to predict which features indicate a winning team."
   ]
  },
  {
   "cell_type": "code",
   "execution_count": 98,
   "id": "5a7f504f",
   "metadata": {},
   "outputs": [
    {
     "ename": "IntCastingNaNError",
     "evalue": "Cannot convert non-finite values (NA or inf) to integer",
     "output_type": "error",
     "traceback": [
      "\u001b[1;31m---------------------------------------------------------------------------\u001b[0m",
      "\u001b[1;31mIntCastingNaNError\u001b[0m                        Traceback (most recent call last)",
      "\u001b[1;32m~\\AppData\\Local\\Temp/ipykernel_21092/2948611235.py\u001b[0m in \u001b[0;36m<module>\u001b[1;34m\u001b[0m\n\u001b[0;32m      5\u001b[0m \u001b[0mdf_model\u001b[0m\u001b[1;33m[\u001b[0m\u001b[1;34m\"Lifetime_WC_Matches\"\u001b[0m\u001b[1;33m]\u001b[0m \u001b[1;33m=\u001b[0m \u001b[0mdf_model\u001b[0m\u001b[1;33m[\u001b[0m\u001b[1;34m\"Lifetime_WC_Matches\"\u001b[0m\u001b[1;33m]\u001b[0m\u001b[1;33m.\u001b[0m\u001b[0mastype\u001b[0m\u001b[1;33m(\u001b[0m\u001b[1;34m\"int64\"\u001b[0m\u001b[1;33m)\u001b[0m\u001b[1;33m\u001b[0m\u001b[1;33m\u001b[0m\u001b[0m\n\u001b[0;32m      6\u001b[0m \u001b[1;33m\u001b[0m\u001b[0m\n\u001b[1;32m----> 7\u001b[1;33m \u001b[0mdf_model\u001b[0m\u001b[1;33m[\u001b[0m\u001b[1;34m\"Lifetime_WC_Matches\"\u001b[0m\u001b[1;33m]\u001b[0m \u001b[1;33m=\u001b[0m \u001b[0mdf_model\u001b[0m\u001b[1;33m[\u001b[0m\u001b[1;34m\"Lifetime_WC_Matches_Bin\"\u001b[0m\u001b[1;33m]\u001b[0m\u001b[1;33m.\u001b[0m\u001b[0mastype\u001b[0m\u001b[1;33m(\u001b[0m\u001b[1;34m\"int64\"\u001b[0m\u001b[1;33m)\u001b[0m\u001b[1;33m\u001b[0m\u001b[1;33m\u001b[0m\u001b[0m\n\u001b[0m\u001b[0;32m      8\u001b[0m \u001b[0mdf_model\u001b[0m\u001b[1;33m[\u001b[0m\u001b[1;34m\"Lifetime_WC_Matches\"\u001b[0m\u001b[1;33m]\u001b[0m \u001b[1;33m=\u001b[0m \u001b[0mdf_model\u001b[0m\u001b[1;33m[\u001b[0m\u001b[1;34m\"Lifetime_WC_Matches_Bin\"\u001b[0m\u001b[1;33m]\u001b[0m\u001b[1;33m.\u001b[0m\u001b[0mfillna\u001b[0m\u001b[1;33m(\u001b[0m\u001b[1;36m0\u001b[0m\u001b[1;33m)\u001b[0m\u001b[1;33m\u001b[0m\u001b[1;33m\u001b[0m\u001b[0m\n\u001b[0;32m      9\u001b[0m \u001b[1;33m\u001b[0m\u001b[0m\n",
      "\u001b[1;32mC:\\ProgramData\\Anaconda3\\lib\\site-packages\\pandas\\core\\generic.py\u001b[0m in \u001b[0;36mastype\u001b[1;34m(self, dtype, copy, errors)\u001b[0m\n\u001b[0;32m   5813\u001b[0m         \u001b[1;32melse\u001b[0m\u001b[1;33m:\u001b[0m\u001b[1;33m\u001b[0m\u001b[1;33m\u001b[0m\u001b[0m\n\u001b[0;32m   5814\u001b[0m             \u001b[1;31m# else, only a single dtype is given\u001b[0m\u001b[1;33m\u001b[0m\u001b[1;33m\u001b[0m\u001b[0m\n\u001b[1;32m-> 5815\u001b[1;33m             \u001b[0mnew_data\u001b[0m \u001b[1;33m=\u001b[0m \u001b[0mself\u001b[0m\u001b[1;33m.\u001b[0m\u001b[0m_mgr\u001b[0m\u001b[1;33m.\u001b[0m\u001b[0mastype\u001b[0m\u001b[1;33m(\u001b[0m\u001b[0mdtype\u001b[0m\u001b[1;33m=\u001b[0m\u001b[0mdtype\u001b[0m\u001b[1;33m,\u001b[0m \u001b[0mcopy\u001b[0m\u001b[1;33m=\u001b[0m\u001b[0mcopy\u001b[0m\u001b[1;33m,\u001b[0m \u001b[0merrors\u001b[0m\u001b[1;33m=\u001b[0m\u001b[0merrors\u001b[0m\u001b[1;33m)\u001b[0m\u001b[1;33m\u001b[0m\u001b[1;33m\u001b[0m\u001b[0m\n\u001b[0m\u001b[0;32m   5816\u001b[0m             \u001b[1;32mreturn\u001b[0m \u001b[0mself\u001b[0m\u001b[1;33m.\u001b[0m\u001b[0m_constructor\u001b[0m\u001b[1;33m(\u001b[0m\u001b[0mnew_data\u001b[0m\u001b[1;33m)\u001b[0m\u001b[1;33m.\u001b[0m\u001b[0m__finalize__\u001b[0m\u001b[1;33m(\u001b[0m\u001b[0mself\u001b[0m\u001b[1;33m,\u001b[0m \u001b[0mmethod\u001b[0m\u001b[1;33m=\u001b[0m\u001b[1;34m\"astype\"\u001b[0m\u001b[1;33m)\u001b[0m\u001b[1;33m\u001b[0m\u001b[1;33m\u001b[0m\u001b[0m\n\u001b[0;32m   5817\u001b[0m \u001b[1;33m\u001b[0m\u001b[0m\n",
      "\u001b[1;32mC:\\ProgramData\\Anaconda3\\lib\\site-packages\\pandas\\core\\internals\\managers.py\u001b[0m in \u001b[0;36mastype\u001b[1;34m(self, dtype, copy, errors)\u001b[0m\n\u001b[0;32m    416\u001b[0m \u001b[1;33m\u001b[0m\u001b[0m\n\u001b[0;32m    417\u001b[0m     \u001b[1;32mdef\u001b[0m \u001b[0mastype\u001b[0m\u001b[1;33m(\u001b[0m\u001b[0mself\u001b[0m\u001b[1;33m:\u001b[0m \u001b[0mT\u001b[0m\u001b[1;33m,\u001b[0m \u001b[0mdtype\u001b[0m\u001b[1;33m,\u001b[0m \u001b[0mcopy\u001b[0m\u001b[1;33m:\u001b[0m \u001b[0mbool\u001b[0m \u001b[1;33m=\u001b[0m \u001b[1;32mFalse\u001b[0m\u001b[1;33m,\u001b[0m \u001b[0merrors\u001b[0m\u001b[1;33m:\u001b[0m \u001b[0mstr\u001b[0m \u001b[1;33m=\u001b[0m \u001b[1;34m\"raise\"\u001b[0m\u001b[1;33m)\u001b[0m \u001b[1;33m->\u001b[0m \u001b[0mT\u001b[0m\u001b[1;33m:\u001b[0m\u001b[1;33m\u001b[0m\u001b[1;33m\u001b[0m\u001b[0m\n\u001b[1;32m--> 418\u001b[1;33m         \u001b[1;32mreturn\u001b[0m \u001b[0mself\u001b[0m\u001b[1;33m.\u001b[0m\u001b[0mapply\u001b[0m\u001b[1;33m(\u001b[0m\u001b[1;34m\"astype\"\u001b[0m\u001b[1;33m,\u001b[0m \u001b[0mdtype\u001b[0m\u001b[1;33m=\u001b[0m\u001b[0mdtype\u001b[0m\u001b[1;33m,\u001b[0m \u001b[0mcopy\u001b[0m\u001b[1;33m=\u001b[0m\u001b[0mcopy\u001b[0m\u001b[1;33m,\u001b[0m \u001b[0merrors\u001b[0m\u001b[1;33m=\u001b[0m\u001b[0merrors\u001b[0m\u001b[1;33m)\u001b[0m\u001b[1;33m\u001b[0m\u001b[1;33m\u001b[0m\u001b[0m\n\u001b[0m\u001b[0;32m    419\u001b[0m \u001b[1;33m\u001b[0m\u001b[0m\n\u001b[0;32m    420\u001b[0m     def convert(\n",
      "\u001b[1;32mC:\\ProgramData\\Anaconda3\\lib\\site-packages\\pandas\\core\\internals\\managers.py\u001b[0m in \u001b[0;36mapply\u001b[1;34m(self, f, align_keys, ignore_failures, **kwargs)\u001b[0m\n\u001b[0;32m    325\u001b[0m                     \u001b[0mapplied\u001b[0m \u001b[1;33m=\u001b[0m \u001b[0mb\u001b[0m\u001b[1;33m.\u001b[0m\u001b[0mapply\u001b[0m\u001b[1;33m(\u001b[0m\u001b[0mf\u001b[0m\u001b[1;33m,\u001b[0m \u001b[1;33m**\u001b[0m\u001b[0mkwargs\u001b[0m\u001b[1;33m)\u001b[0m\u001b[1;33m\u001b[0m\u001b[1;33m\u001b[0m\u001b[0m\n\u001b[0;32m    326\u001b[0m                 \u001b[1;32melse\u001b[0m\u001b[1;33m:\u001b[0m\u001b[1;33m\u001b[0m\u001b[1;33m\u001b[0m\u001b[0m\n\u001b[1;32m--> 327\u001b[1;33m                     \u001b[0mapplied\u001b[0m \u001b[1;33m=\u001b[0m \u001b[0mgetattr\u001b[0m\u001b[1;33m(\u001b[0m\u001b[0mb\u001b[0m\u001b[1;33m,\u001b[0m \u001b[0mf\u001b[0m\u001b[1;33m)\u001b[0m\u001b[1;33m(\u001b[0m\u001b[1;33m**\u001b[0m\u001b[0mkwargs\u001b[0m\u001b[1;33m)\u001b[0m\u001b[1;33m\u001b[0m\u001b[1;33m\u001b[0m\u001b[0m\n\u001b[0m\u001b[0;32m    328\u001b[0m             \u001b[1;32mexcept\u001b[0m \u001b[1;33m(\u001b[0m\u001b[0mTypeError\u001b[0m\u001b[1;33m,\u001b[0m \u001b[0mNotImplementedError\u001b[0m\u001b[1;33m)\u001b[0m\u001b[1;33m:\u001b[0m\u001b[1;33m\u001b[0m\u001b[1;33m\u001b[0m\u001b[0m\n\u001b[0;32m    329\u001b[0m                 \u001b[1;32mif\u001b[0m \u001b[1;32mnot\u001b[0m \u001b[0mignore_failures\u001b[0m\u001b[1;33m:\u001b[0m\u001b[1;33m\u001b[0m\u001b[1;33m\u001b[0m\u001b[0m\n",
      "\u001b[1;32mC:\\ProgramData\\Anaconda3\\lib\\site-packages\\pandas\\core\\internals\\blocks.py\u001b[0m in \u001b[0;36mastype\u001b[1;34m(self, dtype, copy, errors)\u001b[0m\n\u001b[0;32m    589\u001b[0m         \u001b[0mvalues\u001b[0m \u001b[1;33m=\u001b[0m \u001b[0mself\u001b[0m\u001b[1;33m.\u001b[0m\u001b[0mvalues\u001b[0m\u001b[1;33m\u001b[0m\u001b[1;33m\u001b[0m\u001b[0m\n\u001b[0;32m    590\u001b[0m \u001b[1;33m\u001b[0m\u001b[0m\n\u001b[1;32m--> 591\u001b[1;33m         \u001b[0mnew_values\u001b[0m \u001b[1;33m=\u001b[0m \u001b[0mastype_array_safe\u001b[0m\u001b[1;33m(\u001b[0m\u001b[0mvalues\u001b[0m\u001b[1;33m,\u001b[0m \u001b[0mdtype\u001b[0m\u001b[1;33m,\u001b[0m \u001b[0mcopy\u001b[0m\u001b[1;33m=\u001b[0m\u001b[0mcopy\u001b[0m\u001b[1;33m,\u001b[0m \u001b[0merrors\u001b[0m\u001b[1;33m=\u001b[0m\u001b[0merrors\u001b[0m\u001b[1;33m)\u001b[0m\u001b[1;33m\u001b[0m\u001b[1;33m\u001b[0m\u001b[0m\n\u001b[0m\u001b[0;32m    592\u001b[0m \u001b[1;33m\u001b[0m\u001b[0m\n\u001b[0;32m    593\u001b[0m         \u001b[0mnew_values\u001b[0m \u001b[1;33m=\u001b[0m \u001b[0mmaybe_coerce_values\u001b[0m\u001b[1;33m(\u001b[0m\u001b[0mnew_values\u001b[0m\u001b[1;33m)\u001b[0m\u001b[1;33m\u001b[0m\u001b[1;33m\u001b[0m\u001b[0m\n",
      "\u001b[1;32mC:\\ProgramData\\Anaconda3\\lib\\site-packages\\pandas\\core\\dtypes\\cast.py\u001b[0m in \u001b[0;36mastype_array_safe\u001b[1;34m(values, dtype, copy, errors)\u001b[0m\n\u001b[0;32m   1307\u001b[0m \u001b[1;33m\u001b[0m\u001b[0m\n\u001b[0;32m   1308\u001b[0m     \u001b[1;32mtry\u001b[0m\u001b[1;33m:\u001b[0m\u001b[1;33m\u001b[0m\u001b[1;33m\u001b[0m\u001b[0m\n\u001b[1;32m-> 1309\u001b[1;33m         \u001b[0mnew_values\u001b[0m \u001b[1;33m=\u001b[0m \u001b[0mastype_array\u001b[0m\u001b[1;33m(\u001b[0m\u001b[0mvalues\u001b[0m\u001b[1;33m,\u001b[0m \u001b[0mdtype\u001b[0m\u001b[1;33m,\u001b[0m \u001b[0mcopy\u001b[0m\u001b[1;33m=\u001b[0m\u001b[0mcopy\u001b[0m\u001b[1;33m)\u001b[0m\u001b[1;33m\u001b[0m\u001b[1;33m\u001b[0m\u001b[0m\n\u001b[0m\u001b[0;32m   1310\u001b[0m     \u001b[1;32mexcept\u001b[0m \u001b[1;33m(\u001b[0m\u001b[0mValueError\u001b[0m\u001b[1;33m,\u001b[0m \u001b[0mTypeError\u001b[0m\u001b[1;33m)\u001b[0m\u001b[1;33m:\u001b[0m\u001b[1;33m\u001b[0m\u001b[1;33m\u001b[0m\u001b[0m\n\u001b[0;32m   1311\u001b[0m         \u001b[1;31m# e.g. astype_nansafe can fail on object-dtype of strings\u001b[0m\u001b[1;33m\u001b[0m\u001b[1;33m\u001b[0m\u001b[0m\n",
      "\u001b[1;32mC:\\ProgramData\\Anaconda3\\lib\\site-packages\\pandas\\core\\dtypes\\cast.py\u001b[0m in \u001b[0;36mastype_array\u001b[1;34m(values, dtype, copy)\u001b[0m\n\u001b[0;32m   1255\u001b[0m \u001b[1;33m\u001b[0m\u001b[0m\n\u001b[0;32m   1256\u001b[0m     \u001b[1;32melse\u001b[0m\u001b[1;33m:\u001b[0m\u001b[1;33m\u001b[0m\u001b[1;33m\u001b[0m\u001b[0m\n\u001b[1;32m-> 1257\u001b[1;33m         \u001b[0mvalues\u001b[0m \u001b[1;33m=\u001b[0m \u001b[0mastype_nansafe\u001b[0m\u001b[1;33m(\u001b[0m\u001b[0mvalues\u001b[0m\u001b[1;33m,\u001b[0m \u001b[0mdtype\u001b[0m\u001b[1;33m,\u001b[0m \u001b[0mcopy\u001b[0m\u001b[1;33m=\u001b[0m\u001b[0mcopy\u001b[0m\u001b[1;33m)\u001b[0m\u001b[1;33m\u001b[0m\u001b[1;33m\u001b[0m\u001b[0m\n\u001b[0m\u001b[0;32m   1258\u001b[0m \u001b[1;33m\u001b[0m\u001b[0m\n\u001b[0;32m   1259\u001b[0m     \u001b[1;31m# in pandas we don't store numpy str dtypes, so convert to object\u001b[0m\u001b[1;33m\u001b[0m\u001b[1;33m\u001b[0m\u001b[0m\n",
      "\u001b[1;32mC:\\ProgramData\\Anaconda3\\lib\\site-packages\\pandas\\core\\dtypes\\cast.py\u001b[0m in \u001b[0;36mastype_nansafe\u001b[1;34m(arr, dtype, copy, skipna)\u001b[0m\n\u001b[0;32m   1166\u001b[0m \u001b[1;33m\u001b[0m\u001b[0m\n\u001b[0;32m   1167\u001b[0m     \u001b[1;32melif\u001b[0m \u001b[0mnp\u001b[0m\u001b[1;33m.\u001b[0m\u001b[0missubdtype\u001b[0m\u001b[1;33m(\u001b[0m\u001b[0marr\u001b[0m\u001b[1;33m.\u001b[0m\u001b[0mdtype\u001b[0m\u001b[1;33m,\u001b[0m \u001b[0mnp\u001b[0m\u001b[1;33m.\u001b[0m\u001b[0mfloating\u001b[0m\u001b[1;33m)\u001b[0m \u001b[1;32mand\u001b[0m \u001b[0mnp\u001b[0m\u001b[1;33m.\u001b[0m\u001b[0missubdtype\u001b[0m\u001b[1;33m(\u001b[0m\u001b[0mdtype\u001b[0m\u001b[1;33m,\u001b[0m \u001b[0mnp\u001b[0m\u001b[1;33m.\u001b[0m\u001b[0minteger\u001b[0m\u001b[1;33m)\u001b[0m\u001b[1;33m:\u001b[0m\u001b[1;33m\u001b[0m\u001b[1;33m\u001b[0m\u001b[0m\n\u001b[1;32m-> 1168\u001b[1;33m         \u001b[1;32mreturn\u001b[0m \u001b[0mastype_float_to_int_nansafe\u001b[0m\u001b[1;33m(\u001b[0m\u001b[0marr\u001b[0m\u001b[1;33m,\u001b[0m \u001b[0mdtype\u001b[0m\u001b[1;33m,\u001b[0m \u001b[0mcopy\u001b[0m\u001b[1;33m)\u001b[0m\u001b[1;33m\u001b[0m\u001b[1;33m\u001b[0m\u001b[0m\n\u001b[0m\u001b[0;32m   1169\u001b[0m \u001b[1;33m\u001b[0m\u001b[0m\n\u001b[0;32m   1170\u001b[0m     \u001b[1;32melif\u001b[0m \u001b[0mis_object_dtype\u001b[0m\u001b[1;33m(\u001b[0m\u001b[0marr\u001b[0m\u001b[1;33m)\u001b[0m\u001b[1;33m:\u001b[0m\u001b[1;33m\u001b[0m\u001b[1;33m\u001b[0m\u001b[0m\n",
      "\u001b[1;32mC:\\ProgramData\\Anaconda3\\lib\\site-packages\\pandas\\core\\dtypes\\cast.py\u001b[0m in \u001b[0;36mastype_float_to_int_nansafe\u001b[1;34m(values, dtype, copy)\u001b[0m\n\u001b[0;32m   1211\u001b[0m     \"\"\"\n\u001b[0;32m   1212\u001b[0m     \u001b[1;32mif\u001b[0m \u001b[1;32mnot\u001b[0m \u001b[0mnp\u001b[0m\u001b[1;33m.\u001b[0m\u001b[0misfinite\u001b[0m\u001b[1;33m(\u001b[0m\u001b[0mvalues\u001b[0m\u001b[1;33m)\u001b[0m\u001b[1;33m.\u001b[0m\u001b[0mall\u001b[0m\u001b[1;33m(\u001b[0m\u001b[1;33m)\u001b[0m\u001b[1;33m:\u001b[0m\u001b[1;33m\u001b[0m\u001b[1;33m\u001b[0m\u001b[0m\n\u001b[1;32m-> 1213\u001b[1;33m         raise IntCastingNaNError(\n\u001b[0m\u001b[0;32m   1214\u001b[0m             \u001b[1;34m\"Cannot convert non-finite values (NA or inf) to integer\"\u001b[0m\u001b[1;33m\u001b[0m\u001b[1;33m\u001b[0m\u001b[0m\n\u001b[0;32m   1215\u001b[0m         )\n",
      "\u001b[1;31mIntCastingNaNError\u001b[0m: Cannot convert non-finite values (NA or inf) to integer"
     ]
    }
   ],
   "source": [
    "# REMOVING IRRELEVANT COLUMNS\n",
    "df_model = df_wc.select_dtypes(exclude=['object'])\n",
    "df_model = df_model.drop(columns=[\"Value\", \"Wage\", \"Nation_KitNumber\", \"ID\"])\n",
    "df_model[\"Lifetime_WC_Matches\"] = df_model[\"Lifetime_WC_Matches\"].fillna(0)\n",
    "df_model[\"Lifetime_WC_Matches\"] = df_model[\"Lifetime_WC_Matches\"].astype(\"int64\")\n",
    "\n",
    "df_model[\"Lifetime_WC_Matches\"] = df_model[\"Lifetime_WC_Matches_Bin\"].astype(\"int64\")\n",
    "df_model[\"Lifetime_WC_Matches\"] = df_model[\"Lifetime_WC_Matches_Bin\"].fillna(0)\n",
    "\n",
    "\n",
    "df_model.info()"
   ]
  },
  {
   "cell_type": "code",
   "execution_count": 78,
   "id": "c46d6657",
   "metadata": {},
   "outputs": [],
   "source": [
    "# X = df_model.drop(columns = [\"Lifetime_WC_Matches\", \"Value\", \"Wage\"])\n",
    "# X = X.fillna(0)\n",
    "X = df_model.drop([\"Lifetime_WC_Matches\", \"Lifetime_WC_Matches_Bin\"], axis=1)"
   ]
  },
  {
   "cell_type": "code",
   "execution_count": 79,
   "id": "6aea5cd8",
   "metadata": {},
   "outputs": [],
   "source": [
    "y = df_model[\"Lifetime_WC_Matches_Bin\"]"
   ]
  },
  {
   "cell_type": "code",
   "execution_count": 80,
   "id": "1b1c1893",
   "metadata": {},
   "outputs": [
    {
     "name": "stdout",
     "output_type": "stream",
     "text": [
      "-4.233399812738023\n"
     ]
    }
   ],
   "source": [
    "\n",
    "\n",
    "X_train, X_test, y_train, y_test = train_test_split(X, y, random_state=3)\n",
    "scaler = StandardScaler().fit(X_train)\n",
    "X_train_scaled = scaler.transform(X_train)\n",
    "X_test_scaled = scaler.transform(X_test)\n",
    "\n",
    "\n",
    "print(X_train_scaled.min())"
   ]
  },
  {
   "cell_type": "code",
   "execution_count": 81,
   "id": "7973adeb",
   "metadata": {},
   "outputs": [
    {
     "ename": "ValueError",
     "evalue": "Input contains NaN, infinity or a value too large for dtype('float64').",
     "output_type": "error",
     "traceback": [
      "\u001b[1;31m---------------------------------------------------------------------------\u001b[0m",
      "\u001b[1;31mValueError\u001b[0m                                Traceback (most recent call last)",
      "\u001b[1;32m~\\AppData\\Local\\Temp/ipykernel_21092/2712144800.py\u001b[0m in \u001b[0;36m<module>\u001b[1;34m\u001b[0m\n\u001b[1;32m----> 1\u001b[1;33m \u001b[0mclf\u001b[0m \u001b[1;33m=\u001b[0m \u001b[0mRandomForestClassifier\u001b[0m\u001b[1;33m(\u001b[0m\u001b[0mrandom_state\u001b[0m\u001b[1;33m=\u001b[0m\u001b[1;36m1\u001b[0m\u001b[1;33m,\u001b[0m \u001b[0mn_estimators\u001b[0m\u001b[1;33m=\u001b[0m\u001b[1;36m500\u001b[0m\u001b[1;33m)\u001b[0m\u001b[1;33m.\u001b[0m\u001b[0mfit\u001b[0m\u001b[1;33m(\u001b[0m\u001b[0mX_train_scaled\u001b[0m\u001b[1;33m,\u001b[0m \u001b[0my_train\u001b[0m\u001b[1;33m)\u001b[0m\u001b[1;33m\u001b[0m\u001b[1;33m\u001b[0m\u001b[0m\n\u001b[0m\u001b[0;32m      2\u001b[0m \u001b[0mprint\u001b[0m\u001b[1;33m(\u001b[0m\u001b[1;34mf'Training Score: {clf.score(X_train_scaled, y_train)}'\u001b[0m\u001b[1;33m)\u001b[0m\u001b[1;33m\u001b[0m\u001b[1;33m\u001b[0m\u001b[0m\n\u001b[0;32m      3\u001b[0m \u001b[0mprint\u001b[0m\u001b[1;33m(\u001b[0m\u001b[1;34mf'Testing Score: {clf.score(X_test_scaled, y_test)}'\u001b[0m\u001b[1;33m)\u001b[0m\u001b[1;33m\u001b[0m\u001b[1;33m\u001b[0m\u001b[0m\n\u001b[0;32m      4\u001b[0m \u001b[1;33m\u001b[0m\u001b[0m\n\u001b[0;32m      5\u001b[0m \u001b[1;31m# .feature_importances_ - helps identify which of the features defined above is most important\u001b[0m\u001b[1;33m\u001b[0m\u001b[1;33m\u001b[0m\u001b[0m\n",
      "\u001b[1;32mC:\\ProgramData\\Anaconda3\\lib\\site-packages\\sklearn\\ensemble\\_forest.py\u001b[0m in \u001b[0;36mfit\u001b[1;34m(self, X, y, sample_weight)\u001b[0m\n\u001b[0;32m    302\u001b[0m                 \u001b[1;34m\"sparse multilabel-indicator for y is not supported.\"\u001b[0m\u001b[1;33m\u001b[0m\u001b[1;33m\u001b[0m\u001b[0m\n\u001b[0;32m    303\u001b[0m             )\n\u001b[1;32m--> 304\u001b[1;33m         X, y = self._validate_data(X, y, multi_output=True,\n\u001b[0m\u001b[0;32m    305\u001b[0m                                    accept_sparse=\"csc\", dtype=DTYPE)\n\u001b[0;32m    306\u001b[0m         \u001b[1;32mif\u001b[0m \u001b[0msample_weight\u001b[0m \u001b[1;32mis\u001b[0m \u001b[1;32mnot\u001b[0m \u001b[1;32mNone\u001b[0m\u001b[1;33m:\u001b[0m\u001b[1;33m\u001b[0m\u001b[1;33m\u001b[0m\u001b[0m\n",
      "\u001b[1;32mC:\\ProgramData\\Anaconda3\\lib\\site-packages\\sklearn\\base.py\u001b[0m in \u001b[0;36m_validate_data\u001b[1;34m(self, X, y, reset, validate_separately, **check_params)\u001b[0m\n\u001b[0;32m    431\u001b[0m                 \u001b[0my\u001b[0m \u001b[1;33m=\u001b[0m \u001b[0mcheck_array\u001b[0m\u001b[1;33m(\u001b[0m\u001b[0my\u001b[0m\u001b[1;33m,\u001b[0m \u001b[1;33m**\u001b[0m\u001b[0mcheck_y_params\u001b[0m\u001b[1;33m)\u001b[0m\u001b[1;33m\u001b[0m\u001b[1;33m\u001b[0m\u001b[0m\n\u001b[0;32m    432\u001b[0m             \u001b[1;32melse\u001b[0m\u001b[1;33m:\u001b[0m\u001b[1;33m\u001b[0m\u001b[1;33m\u001b[0m\u001b[0m\n\u001b[1;32m--> 433\u001b[1;33m                 \u001b[0mX\u001b[0m\u001b[1;33m,\u001b[0m \u001b[0my\u001b[0m \u001b[1;33m=\u001b[0m \u001b[0mcheck_X_y\u001b[0m\u001b[1;33m(\u001b[0m\u001b[0mX\u001b[0m\u001b[1;33m,\u001b[0m \u001b[0my\u001b[0m\u001b[1;33m,\u001b[0m \u001b[1;33m**\u001b[0m\u001b[0mcheck_params\u001b[0m\u001b[1;33m)\u001b[0m\u001b[1;33m\u001b[0m\u001b[1;33m\u001b[0m\u001b[0m\n\u001b[0m\u001b[0;32m    434\u001b[0m             \u001b[0mout\u001b[0m \u001b[1;33m=\u001b[0m \u001b[0mX\u001b[0m\u001b[1;33m,\u001b[0m \u001b[0my\u001b[0m\u001b[1;33m\u001b[0m\u001b[1;33m\u001b[0m\u001b[0m\n\u001b[0;32m    435\u001b[0m \u001b[1;33m\u001b[0m\u001b[0m\n",
      "\u001b[1;32mC:\\ProgramData\\Anaconda3\\lib\\site-packages\\sklearn\\utils\\validation.py\u001b[0m in \u001b[0;36minner_f\u001b[1;34m(*args, **kwargs)\u001b[0m\n\u001b[0;32m     61\u001b[0m             \u001b[0mextra_args\u001b[0m \u001b[1;33m=\u001b[0m \u001b[0mlen\u001b[0m\u001b[1;33m(\u001b[0m\u001b[0margs\u001b[0m\u001b[1;33m)\u001b[0m \u001b[1;33m-\u001b[0m \u001b[0mlen\u001b[0m\u001b[1;33m(\u001b[0m\u001b[0mall_args\u001b[0m\u001b[1;33m)\u001b[0m\u001b[1;33m\u001b[0m\u001b[1;33m\u001b[0m\u001b[0m\n\u001b[0;32m     62\u001b[0m             \u001b[1;32mif\u001b[0m \u001b[0mextra_args\u001b[0m \u001b[1;33m<=\u001b[0m \u001b[1;36m0\u001b[0m\u001b[1;33m:\u001b[0m\u001b[1;33m\u001b[0m\u001b[1;33m\u001b[0m\u001b[0m\n\u001b[1;32m---> 63\u001b[1;33m                 \u001b[1;32mreturn\u001b[0m \u001b[0mf\u001b[0m\u001b[1;33m(\u001b[0m\u001b[1;33m*\u001b[0m\u001b[0margs\u001b[0m\u001b[1;33m,\u001b[0m \u001b[1;33m**\u001b[0m\u001b[0mkwargs\u001b[0m\u001b[1;33m)\u001b[0m\u001b[1;33m\u001b[0m\u001b[1;33m\u001b[0m\u001b[0m\n\u001b[0m\u001b[0;32m     64\u001b[0m \u001b[1;33m\u001b[0m\u001b[0m\n\u001b[0;32m     65\u001b[0m             \u001b[1;31m# extra_args > 0\u001b[0m\u001b[1;33m\u001b[0m\u001b[1;33m\u001b[0m\u001b[0m\n",
      "\u001b[1;32mC:\\ProgramData\\Anaconda3\\lib\\site-packages\\sklearn\\utils\\validation.py\u001b[0m in \u001b[0;36mcheck_X_y\u001b[1;34m(X, y, accept_sparse, accept_large_sparse, dtype, order, copy, force_all_finite, ensure_2d, allow_nd, multi_output, ensure_min_samples, ensure_min_features, y_numeric, estimator)\u001b[0m\n\u001b[0;32m    878\u001b[0m                     estimator=estimator)\n\u001b[0;32m    879\u001b[0m     \u001b[1;32mif\u001b[0m \u001b[0mmulti_output\u001b[0m\u001b[1;33m:\u001b[0m\u001b[1;33m\u001b[0m\u001b[1;33m\u001b[0m\u001b[0m\n\u001b[1;32m--> 880\u001b[1;33m         y = check_array(y, accept_sparse='csr', force_all_finite=True,\n\u001b[0m\u001b[0;32m    881\u001b[0m                         ensure_2d=False, dtype=None)\n\u001b[0;32m    882\u001b[0m     \u001b[1;32melse\u001b[0m\u001b[1;33m:\u001b[0m\u001b[1;33m\u001b[0m\u001b[1;33m\u001b[0m\u001b[0m\n",
      "\u001b[1;32mC:\\ProgramData\\Anaconda3\\lib\\site-packages\\sklearn\\utils\\validation.py\u001b[0m in \u001b[0;36minner_f\u001b[1;34m(*args, **kwargs)\u001b[0m\n\u001b[0;32m     61\u001b[0m             \u001b[0mextra_args\u001b[0m \u001b[1;33m=\u001b[0m \u001b[0mlen\u001b[0m\u001b[1;33m(\u001b[0m\u001b[0margs\u001b[0m\u001b[1;33m)\u001b[0m \u001b[1;33m-\u001b[0m \u001b[0mlen\u001b[0m\u001b[1;33m(\u001b[0m\u001b[0mall_args\u001b[0m\u001b[1;33m)\u001b[0m\u001b[1;33m\u001b[0m\u001b[1;33m\u001b[0m\u001b[0m\n\u001b[0;32m     62\u001b[0m             \u001b[1;32mif\u001b[0m \u001b[0mextra_args\u001b[0m \u001b[1;33m<=\u001b[0m \u001b[1;36m0\u001b[0m\u001b[1;33m:\u001b[0m\u001b[1;33m\u001b[0m\u001b[1;33m\u001b[0m\u001b[0m\n\u001b[1;32m---> 63\u001b[1;33m                 \u001b[1;32mreturn\u001b[0m \u001b[0mf\u001b[0m\u001b[1;33m(\u001b[0m\u001b[1;33m*\u001b[0m\u001b[0margs\u001b[0m\u001b[1;33m,\u001b[0m \u001b[1;33m**\u001b[0m\u001b[0mkwargs\u001b[0m\u001b[1;33m)\u001b[0m\u001b[1;33m\u001b[0m\u001b[1;33m\u001b[0m\u001b[0m\n\u001b[0m\u001b[0;32m     64\u001b[0m \u001b[1;33m\u001b[0m\u001b[0m\n\u001b[0;32m     65\u001b[0m             \u001b[1;31m# extra_args > 0\u001b[0m\u001b[1;33m\u001b[0m\u001b[1;33m\u001b[0m\u001b[0m\n",
      "\u001b[1;32mC:\\ProgramData\\Anaconda3\\lib\\site-packages\\sklearn\\utils\\validation.py\u001b[0m in \u001b[0;36mcheck_array\u001b[1;34m(array, accept_sparse, accept_large_sparse, dtype, order, copy, force_all_finite, ensure_2d, allow_nd, ensure_min_samples, ensure_min_features, estimator)\u001b[0m\n\u001b[0;32m    718\u001b[0m \u001b[1;33m\u001b[0m\u001b[0m\n\u001b[0;32m    719\u001b[0m         \u001b[1;32mif\u001b[0m \u001b[0mforce_all_finite\u001b[0m\u001b[1;33m:\u001b[0m\u001b[1;33m\u001b[0m\u001b[1;33m\u001b[0m\u001b[0m\n\u001b[1;32m--> 720\u001b[1;33m             _assert_all_finite(array,\n\u001b[0m\u001b[0;32m    721\u001b[0m                                allow_nan=force_all_finite == 'allow-nan')\n\u001b[0;32m    722\u001b[0m \u001b[1;33m\u001b[0m\u001b[0m\n",
      "\u001b[1;32mC:\\ProgramData\\Anaconda3\\lib\\site-packages\\sklearn\\utils\\validation.py\u001b[0m in \u001b[0;36m_assert_all_finite\u001b[1;34m(X, allow_nan, msg_dtype)\u001b[0m\n\u001b[0;32m    101\u001b[0m                 not allow_nan and not np.isfinite(X).all()):\n\u001b[0;32m    102\u001b[0m             \u001b[0mtype_err\u001b[0m \u001b[1;33m=\u001b[0m \u001b[1;34m'infinity'\u001b[0m \u001b[1;32mif\u001b[0m \u001b[0mallow_nan\u001b[0m \u001b[1;32melse\u001b[0m \u001b[1;34m'NaN, infinity'\u001b[0m\u001b[1;33m\u001b[0m\u001b[1;33m\u001b[0m\u001b[0m\n\u001b[1;32m--> 103\u001b[1;33m             raise ValueError(\n\u001b[0m\u001b[0;32m    104\u001b[0m                     \u001b[0mmsg_err\u001b[0m\u001b[1;33m.\u001b[0m\u001b[0mformat\u001b[0m\u001b[1;33m\u001b[0m\u001b[1;33m\u001b[0m\u001b[0m\n\u001b[0;32m    105\u001b[0m                     (type_err,\n",
      "\u001b[1;31mValueError\u001b[0m: Input contains NaN, infinity or a value too large for dtype('float64')."
     ]
    }
   ],
   "source": [
    "clf = RandomForestClassifier(random_state=1, n_estimators=500).fit(X_train_scaled, y_train)\n",
    "print(f'Training Score: {clf.score(X_train_scaled, y_train)}')\n",
    "print(f'Testing Score: {clf.score(X_test_scaled, y_test)}')\n",
    "\n",
    "# .feature_importances_ - helps identify which of the features defined above is most important\n",
    "# determined by default at 5%\n",
    "features = clf.feature_importances_\n",
    "print(features)\n",
    "plt.bar(x = range(len(features)), height=features)\n",
    "plt.show()"
   ]
  },
  {
   "cell_type": "code",
   "execution_count": 54,
   "id": "c8b26782",
   "metadata": {},
   "outputs": [
    {
     "name": "stdout",
     "output_type": "stream",
     "text": [
      "0.035377300143997835\n",
      "['Overall', 'Potential', 'Height', 'Weight', 'Age', 'WeakFoot', 'SkillMoves', 'Club_KitNumber', 'BallControl', 'Dribbling', 'Marking', 'SlideTackle', 'StandTackle', 'Aggression', 'Reactions', 'AttPosition', 'Interceptions', 'Vision', 'Composure', 'Crossing', 'ShortPass', 'LongPass', 'Acceleration', 'Stamina', 'Strength', 'Balance', 'SprintSpeed', 'Agility', 'Jumping', 'Heading', 'ShotPower', 'Finishing', 'LongShots', 'Curve', 'FKAcc', 'Penalties', 'Volleys', 'GKPositioning', 'GKDiving', 'GKHandling', 'GKKicking', 'GKReflexes']\n"
     ]
    }
   ],
   "source": [
    "print(features.max())\n",
    "feature_names = list(X_train.columns.values)\n",
    "print(feature_names)"
   ]
  },
  {
   "cell_type": "code",
   "execution_count": 61,
   "id": "363f991a",
   "metadata": {},
   "outputs": [
    {
     "data": {
      "text/plain": [
       "0     4610\n",
       "3       52\n",
       "2       24\n",
       "1       23\n",
       "4       21\n",
       "5       13\n",
       "6       13\n",
       "7        8\n",
       "8        4\n",
       "13       3\n",
       "12       3\n",
       "9        2\n",
       "10       2\n",
       "14       2\n",
       "Name: Lifetime_WC_Matches, dtype: int64"
      ]
     },
     "execution_count": 61,
     "metadata": {},
     "output_type": "execute_result"
    }
   ],
   "source": [
    "# y_train.value_counts()\n",
    "y_test.value_counts()\n",
    "\n",
    "# othe roptions: smote - synthetic data to up/down sample; precision recall metrics instead of test/train score"
   ]
  },
  {
   "cell_type": "code",
   "execution_count": 55,
   "id": "9dae0d62",
   "metadata": {},
   "outputs": [
    {
     "ename": "ValueError",
     "evalue": "Invalid classes inferred from unique values of `y`.  Expected: [ 0  1  2  3  4  5  6  7  8  9 10 11 12 13 14 15 16 17 18], got [ 0  1  2  3  4  5  6  7  8  9 10 11 12 13 14 15 16 17 19]",
     "output_type": "error",
     "traceback": [
      "\u001b[1;31m---------------------------------------------------------------------------\u001b[0m",
      "\u001b[1;31mValueError\u001b[0m                                Traceback (most recent call last)",
      "\u001b[1;32m~\\AppData\\Local\\Temp/ipykernel_21092/1516703831.py\u001b[0m in \u001b[0;36m<module>\u001b[1;34m\u001b[0m\n\u001b[0;32m      2\u001b[0m \u001b[1;33m\u001b[0m\u001b[0m\n\u001b[0;32m      3\u001b[0m \u001b[1;31m# X, y = shap.datasets.adult()\u001b[0m\u001b[1;33m\u001b[0m\u001b[1;33m\u001b[0m\u001b[0m\n\u001b[1;32m----> 4\u001b[1;33m \u001b[0mmodel\u001b[0m \u001b[1;33m=\u001b[0m \u001b[0mxgboost\u001b[0m\u001b[1;33m.\u001b[0m\u001b[0mXGBClassifier\u001b[0m\u001b[1;33m(\u001b[0m\u001b[1;33m)\u001b[0m\u001b[1;33m.\u001b[0m\u001b[0mfit\u001b[0m\u001b[1;33m(\u001b[0m\u001b[0mX\u001b[0m\u001b[1;33m,\u001b[0m \u001b[0my\u001b[0m\u001b[1;33m)\u001b[0m\u001b[1;33m\u001b[0m\u001b[1;33m\u001b[0m\u001b[0m\n\u001b[0m\u001b[0;32m      5\u001b[0m \u001b[0mexplainer\u001b[0m \u001b[1;33m=\u001b[0m \u001b[0mshap\u001b[0m\u001b[1;33m.\u001b[0m\u001b[0mTreeExplainer\u001b[0m\u001b[1;33m(\u001b[0m\u001b[0mmodel\u001b[0m\u001b[1;33m,\u001b[0m \u001b[0mX\u001b[0m\u001b[1;33m)\u001b[0m\u001b[1;33m\u001b[0m\u001b[1;33m\u001b[0m\u001b[0m\n\u001b[0;32m      6\u001b[0m \u001b[0mshap_values\u001b[0m \u001b[1;33m=\u001b[0m \u001b[0mexplainer\u001b[0m\u001b[1;33m(\u001b[0m\u001b[0mX\u001b[0m\u001b[1;33m)\u001b[0m\u001b[1;33m\u001b[0m\u001b[1;33m\u001b[0m\u001b[0m\n",
      "\u001b[1;32mC:\\ProgramData\\Anaconda3\\lib\\site-packages\\xgboost\\core.py\u001b[0m in \u001b[0;36minner_f\u001b[1;34m(*args, **kwargs)\u001b[0m\n\u001b[0;32m    573\u001b[0m         \u001b[1;32mfor\u001b[0m \u001b[0mk\u001b[0m\u001b[1;33m,\u001b[0m \u001b[0marg\u001b[0m \u001b[1;32min\u001b[0m \u001b[0mzip\u001b[0m\u001b[1;33m(\u001b[0m\u001b[0msig\u001b[0m\u001b[1;33m.\u001b[0m\u001b[0mparameters\u001b[0m\u001b[1;33m,\u001b[0m \u001b[0margs\u001b[0m\u001b[1;33m)\u001b[0m\u001b[1;33m:\u001b[0m\u001b[1;33m\u001b[0m\u001b[1;33m\u001b[0m\u001b[0m\n\u001b[0;32m    574\u001b[0m             \u001b[0mkwargs\u001b[0m\u001b[1;33m[\u001b[0m\u001b[0mk\u001b[0m\u001b[1;33m]\u001b[0m \u001b[1;33m=\u001b[0m \u001b[0marg\u001b[0m\u001b[1;33m\u001b[0m\u001b[1;33m\u001b[0m\u001b[0m\n\u001b[1;32m--> 575\u001b[1;33m         \u001b[1;32mreturn\u001b[0m \u001b[0mf\u001b[0m\u001b[1;33m(\u001b[0m\u001b[1;33m**\u001b[0m\u001b[0mkwargs\u001b[0m\u001b[1;33m)\u001b[0m\u001b[1;33m\u001b[0m\u001b[1;33m\u001b[0m\u001b[0m\n\u001b[0m\u001b[0;32m    576\u001b[0m \u001b[1;33m\u001b[0m\u001b[0m\n\u001b[0;32m    577\u001b[0m     \u001b[1;32mreturn\u001b[0m \u001b[0minner_f\u001b[0m\u001b[1;33m\u001b[0m\u001b[1;33m\u001b[0m\u001b[0m\n",
      "\u001b[1;32mC:\\ProgramData\\Anaconda3\\lib\\site-packages\\xgboost\\sklearn.py\u001b[0m in \u001b[0;36mfit\u001b[1;34m(self, X, y, sample_weight, base_margin, eval_set, eval_metric, early_stopping_rounds, verbose, xgb_model, sample_weight_eval_set, base_margin_eval_set, feature_weights, callbacks)\u001b[0m\n\u001b[0;32m   1355\u001b[0m             \u001b[1;32mor\u001b[0m \u001b[1;32mnot\u001b[0m \u001b[1;33m(\u001b[0m\u001b[0mself\u001b[0m\u001b[1;33m.\u001b[0m\u001b[0mclasses_\u001b[0m \u001b[1;33m==\u001b[0m \u001b[0mexpected_classes\u001b[0m\u001b[1;33m)\u001b[0m\u001b[1;33m.\u001b[0m\u001b[0mall\u001b[0m\u001b[1;33m(\u001b[0m\u001b[1;33m)\u001b[0m\u001b[1;33m\u001b[0m\u001b[1;33m\u001b[0m\u001b[0m\n\u001b[0;32m   1356\u001b[0m         ):\n\u001b[1;32m-> 1357\u001b[1;33m             raise ValueError(\n\u001b[0m\u001b[0;32m   1358\u001b[0m                 \u001b[1;34mf\"Invalid classes inferred from unique values of `y`.  \"\u001b[0m\u001b[1;33m\u001b[0m\u001b[1;33m\u001b[0m\u001b[0m\n\u001b[0;32m   1359\u001b[0m                 \u001b[1;34mf\"Expected: {expected_classes}, got {self.classes_}\"\u001b[0m\u001b[1;33m\u001b[0m\u001b[1;33m\u001b[0m\u001b[0m\n",
      "\u001b[1;31mValueError\u001b[0m: Invalid classes inferred from unique values of `y`.  Expected: [ 0  1  2  3  4  5  6  7  8  9 10 11 12 13 14 15 16 17 18], got [ 0  1  2  3  4  5  6  7  8  9 10 11 12 13 14 15 16 17 19]"
     ]
    }
   ],
   "source": [
    "# SHAP PLOT\n",
    "\n",
    "# X, y = shap.datasets.adult()\n",
    "model = xgboost.XGBClassifier().fit(X, y)\n",
    "explainer = shap.TreeExplainer(model, X)\n",
    "shap_values = explainer(X)\n",
    "feature_names = [\n",
    "    a + \": \" + str(b) for a,b in zip(X.columns, np.abs(shap_values.values).mean(0).round(2))\n",
    "]\n",
    "\n",
    "shap.summary_plot(shap_values, X, max_display=X.shape[1], \n",
    "                  feature_names=feature_names)\n",
    "\n",
    "# expecting that y is label encoded\n",
    "# change y to 1 or 0 , that the player appeared in the WC; if y = 0 then 0 else y = 1\n",
    "# alternative: multiclass classification; \n",
    "# or could do regression (lin or ranfor) to predict continuous number"
   ]
  },
  {
   "cell_type": "code",
   "execution_count": null,
   "id": "6d0e201c",
   "metadata": {},
   "outputs": [],
   "source": [
    "clf = RandomForestClassifier(random_state=1, n_estimators=500).fit(X_train_scaled, y_train)\n",
    "print(f'Training Score: {clf.score(X_train_scaled, y_train)}')\n",
    "print(f'Testing Score: {clf.score(X_test_scaled, y_test)}')"
   ]
  },
  {
   "cell_type": "code",
   "execution_count": null,
   "id": "99a6ed01",
   "metadata": {},
   "outputs": [],
   "source": [
    "feature_importances = clf.feature_importances_"
   ]
  },
  {
   "cell_type": "code",
   "execution_count": null,
   "id": "df886ce3",
   "metadata": {},
   "outputs": [],
   "source": [
    "features = sorted(zip(X.columns, clf.feature_importances_), key = lambda x: x[1])\n",
    "cols = [f[0] for f in features]\n",
    "width = [f[1] for f in features]\n",
    "\n",
    "fig, ax = plt.subplots()\n",
    "\n",
    "fig.set_size_inches(10)\n",
    "plt.margins(y=0.001)\n",
    "\n",
    "ax.barh(y=cols, width=width)\n",
    "\n",
    "plt.show()"
   ]
  },
  {
   "cell_type": "markdown",
   "id": "2108ef32",
   "metadata": {},
   "source": [
    "# create many features based on statistics per each country"
   ]
  },
  {
   "cell_type": "code",
   "execution_count": null,
   "id": "2260644b",
   "metadata": {},
   "outputs": [],
   "source": [
    "#only keep countries that are in the 2022 World Cup\n",
    "data_df = data_df[(data_df['Country'].isin(teams_2022))]\n",
    "data_df"
   ]
  },
  {
   "cell_type": "code",
   "execution_count": null,
   "id": "2e76228c",
   "metadata": {},
   "outputs": [],
   "source": [
    "data_df = data_df.drop(columns = 'ID')"
   ]
  },
  {
   "cell_type": "code",
   "execution_count": null,
   "id": "a4f41d39",
   "metadata": {},
   "outputs": [],
   "source": [
    "data_df.columns\n",
    "#which attribute features do we want out of the following column names?"
   ]
  },
  {
   "cell_type": "code",
   "execution_count": null,
   "id": "fe9d67e3",
   "metadata": {},
   "outputs": [],
   "source": [
    "data_df['Nation_Position'].unique()"
   ]
  },
  {
   "cell_type": "code",
   "execution_count": null,
   "id": "1ac384a2",
   "metadata": {
    "scrolled": true
   },
   "outputs": [],
   "source": [
    "# averaging stats of each player to get an overall 'score' for each team\n",
    "average_for_teams = data_df.groupby([\"Country\"]).mean()\n",
    "average_for_teams = average_for_teams.reset_index()\n",
    "average_for_teams"
   ]
  },
  {
   "cell_type": "code",
   "execution_count": null,
   "id": "014459ef",
   "metadata": {},
   "outputs": [],
   "source": [
    "# median stats of each player to get an overall 'score' for each team\n",
    "median_for_teams = data_df.groupby([\"Country\"]).median()\n",
    "median_for_teams = median_for_teams.reset_index()\n",
    "len(median_for_teams)"
   ]
  },
  {
   "cell_type": "code",
   "execution_count": null,
   "id": "568d181e",
   "metadata": {},
   "outputs": [],
   "source": [
    "# median stats of each player to get an overall 'score' for each team\n",
    "max_for_teams = data_df.groupby([\"Country\"]).max()\n",
    "max_for_teams = max_for_teams.reset_index()\n",
    "len(max_for_teams)"
   ]
  },
  {
   "cell_type": "code",
   "execution_count": null,
   "id": "0c1a37be",
   "metadata": {},
   "outputs": [],
   "source": [
    "# min stats of each player to get an overall 'score' for each team\n",
    "min_for_teams = data_df.groupby([\"Country\"]).min()\n",
    "min_for_teams = min_for_teams.reset_index()\n",
    "len(min_for_teams)"
   ]
  },
  {
   "cell_type": "code",
   "execution_count": null,
   "id": "1eb0a963",
   "metadata": {},
   "outputs": [],
   "source": [
    "std_for_teams = data_df.groupby([\"Country\"]).std()\n",
    "std_for_teams = std_for_teams.reset_index()\n",
    "len(std_for_teams)"
   ]
  },
  {
   "cell_type": "markdown",
   "id": "07547384",
   "metadata": {},
   "source": [
    "#Features showing only certain positions: Goalie, for example"
   ]
  },
  {
   "cell_type": "code",
   "execution_count": null,
   "id": "bca45034",
   "metadata": {},
   "outputs": [],
   "source": [
    "#only goalies\n",
    "goalies = data_df.loc[data_df['Nation_Position'] == 'GK']\n",
    "len(goalies)"
   ]
  },
  {
   "cell_type": "code",
   "execution_count": null,
   "id": "81990bcd",
   "metadata": {},
   "outputs": [],
   "source": [
    "#we only have 20 known goalies available\n",
    "max_for_goalies = goalies.groupby(\"Country\").max()\n",
    "max_for_goalies = max_for_goalies.reset_index()\n",
    "max_for_goalies"
   ]
  },
  {
   "cell_type": "code",
   "execution_count": null,
   "id": "628e4c8f",
   "metadata": {},
   "outputs": [],
   "source": [
    "data_df['PreferredPositions'].unique()"
   ]
  },
  {
   "cell_type": "code",
   "execution_count": null,
   "id": "aa43b70a",
   "metadata": {},
   "outputs": [],
   "source": [
    "#only goalies\n",
    "goalies2 = data_df.loc[data_df['PreferredPositions'] == 'GK']\n",
    "len(goalies2)"
   ]
  },
  {
   "cell_type": "code",
   "execution_count": null,
   "id": "8e59a201",
   "metadata": {},
   "outputs": [],
   "source": [
    "max_for_goalies2 = goalies2.groupby(\"Country\").max()\n",
    "max_for_goalies2 = max_for_goalies2.reset_index()\n",
    "max_for_goalies2"
   ]
  },
  {
   "cell_type": "markdown",
   "id": "d42b6351",
   "metadata": {},
   "source": [
    "# Dataset does not identify the position each player will play in the world cup yet. However, we can look at preferred position to get a clue."
   ]
  },
  {
   "cell_type": "code",
   "execution_count": null,
   "id": "6441b8d8",
   "metadata": {},
   "outputs": [],
   "source": [
    "data_df['Nation_Position'].value_counts()"
   ]
  },
  {
   "cell_type": "code",
   "execution_count": null,
   "id": "91d2ca54",
   "metadata": {},
   "outputs": [],
   "source": []
  },
  {
   "cell_type": "code",
   "execution_count": null,
   "id": "1f9eaa0e",
   "metadata": {},
   "outputs": [],
   "source": []
  },
  {
   "cell_type": "code",
   "execution_count": null,
   "id": "bc4ea602",
   "metadata": {},
   "outputs": [],
   "source": []
  },
  {
   "cell_type": "code",
   "execution_count": null,
   "id": "dbbcb521",
   "metadata": {},
   "outputs": [],
   "source": []
  },
  {
   "cell_type": "code",
   "execution_count": null,
   "id": "263de55e",
   "metadata": {},
   "outputs": [],
   "source": []
  },
  {
   "cell_type": "code",
   "execution_count": null,
   "id": "3f2014db",
   "metadata": {},
   "outputs": [],
   "source": [
    "# Connect to local database\n",
    "\n",
    "protocol = 'postgresql'\n",
    "username = 'postgres'\n",
    "password = 'admin'\n",
    "host = 'localhost'\n",
    "port = 5432\n",
    "database_name = 'players_db'\n",
    "rds_connection_string = f'{protocol}://{username}:{password}@{host}:{port}/{database_name}'\n",
    "engine = create_engine(rds_connection_string)\n",
    "rds_connection_string"
   ]
  },
  {
   "cell_type": "code",
   "execution_count": null,
   "id": "4bd17154",
   "metadata": {},
   "outputs": [],
   "source": [
    "# Checking Tables Names in PgAdmin\n",
    "\n",
    "engine.table_names()"
   ]
  },
  {
   "cell_type": "code",
   "execution_count": null,
   "id": "876b80d9",
   "metadata": {},
   "outputs": [],
   "source": [
    "player_info_df.to_sql(name='player_info', con=engine, if_exists='replace', index=False)\n"
   ]
  },
  {
   "cell_type": "code",
   "execution_count": null,
   "id": "be3d4a31",
   "metadata": {},
   "outputs": [],
   "source": [
    "matches_df.to_sql(name='matches', con=engine, if_exists='replace', index=False)"
   ]
  },
  {
   "cell_type": "code",
   "execution_count": null,
   "id": "a4a3a462",
   "metadata": {},
   "outputs": [],
   "source": [
    "averages_for_teams.to_sql(name='team_averages', con=engine, if_exists='replace', index=False)"
   ]
  },
  {
   "cell_type": "code",
   "execution_count": null,
   "id": "847df605",
   "metadata": {},
   "outputs": [],
   "source": []
  }
 ],
 "metadata": {
  "kernelspec": {
   "display_name": "Python 3 (ipykernel)",
   "language": "python",
   "name": "python3"
  },
  "language_info": {
   "codemirror_mode": {
    "name": "ipython",
    "version": 3
   },
   "file_extension": ".py",
   "mimetype": "text/x-python",
   "name": "python",
   "nbconvert_exporter": "python",
   "pygments_lexer": "ipython3",
   "version": "3.9.7"
  }
 },
 "nbformat": 4,
 "nbformat_minor": 5
}
