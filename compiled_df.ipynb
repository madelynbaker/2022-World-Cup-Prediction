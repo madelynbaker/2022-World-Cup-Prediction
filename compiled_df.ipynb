{
 "cells": [
  {
   "cell_type": "code",
   "execution_count": 1,
   "id": "f1c97db9",
   "metadata": {},
   "outputs": [],
   "source": [
    "# run dependencies\n",
    "\n",
    "import pandas as pd\n",
    "import numpy as np\n",
    "from sqlalchemy import create_engine\n",
    "from sqlalchemy import create_engine"
   ]
  },
  {
   "cell_type": "code",
   "execution_count": 2,
   "id": "f61ed0b4",
   "metadata": {},
   "outputs": [],
   "source": [
    "# Import dataframes that give features"
   ]
  },
  {
   "cell_type": "code",
   "execution_count": null,
   "id": "f2bd8b45",
   "metadata": {},
   "outputs": [],
   "source": [
    "#call all csv files that were created (feature files)\n",
    "wins = pd.read_csv(\"Features/total_wins.csv\")\n",
    "appearances = pd.read_csv(\"Features/adv_df_pivot.csv\")\n",
    "rank = pd.read_csv(\"Features/fifa_rank.csv\")\n",
    "delta_pts = pd.read_csv(\"Features/delta_pts.csv\")\n"
   ]
  },
  {
   "cell_type": "code",
   "execution_count": null,
   "id": "19c78797",
   "metadata": {},
   "outputs": [],
   "source": []
  }
 ],
 "metadata": {
  "kernelspec": {
   "display_name": "PythonData",
   "language": "python",
   "name": "pythondata"
  },
  "language_info": {
   "codemirror_mode": {
    "name": "ipython",
    "version": 3
   },
   "file_extension": ".py",
   "mimetype": "text/x-python",
   "name": "python",
   "nbconvert_exporter": "python",
   "pygments_lexer": "ipython3",
   "version": "3.9.7"
  }
 },
 "nbformat": 4,
 "nbformat_minor": 5
}
